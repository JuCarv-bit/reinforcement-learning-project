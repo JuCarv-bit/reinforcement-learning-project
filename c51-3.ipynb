{
  "nbformat": 4,
  "nbformat_minor": 0,
  "metadata": {
    "colab": {
      "provenance": []
    },
    "kernelspec": {
      "name": "python3",
      "display_name": "Python 3"
    },
    "language_info": {
      "name": "python"
    }
  },
  "cells": [
    {
      "cell_type": "markdown",
      "source": [
        "# Reinforcement Learning Project - A Distributional Perspective on Reinforcement Learning"
      ],
      "metadata": {
        "id": "vDBM2Feq3sbx"
      }
    },
    {
      "cell_type": "markdown",
      "source": [
        "Sixtine Sphabmixay / Juliana Carvalho De Souza"
      ],
      "metadata": {
        "id": "eIG66KKM3yvb"
      }
    },
    {
      "cell_type": "markdown",
      "source": [
        "In this file, we propose a very simple application of the C51 algorithm presented in our article, with an MDP with two states."
      ],
      "metadata": {
        "id": "mmnl7M_n3188"
      }
    },
    {
      "cell_type": "markdown",
      "source": [
        "## 0. Import Packages"
      ],
      "metadata": {
        "id": "aWPrO6ey4AJ1"
      }
    },
    {
      "cell_type": "code",
      "source": [
        "import numpy as np\n",
        "import matplotlib.pyplot as plt"
      ],
      "metadata": {
        "id": "If0ZLYCL3_nG"
      },
      "execution_count": null,
      "outputs": []
    },
    {
      "cell_type": "markdown",
      "source": [
        "## 1. C51 Experiment"
      ],
      "metadata": {
        "id": "kY_YiiL147LG"
      }
    },
    {
      "cell_type": "code",
      "source": [
        "# Define the MDP\n",
        "\n",
        "states = [0, 1]\n",
        "actions = [0, 1]\n",
        "transitions = {\n",
        "    (0, 0): [0.8, 0.2],\n",
        "    (0, 1): [0.3, 0.7],\n",
        "    (1, 0): [0.5, 0.5],\n",
        "    (1, 1): [0.9, 0.1],\n",
        "}\n",
        "\n",
        "rewards = {\n",
        "    (0, 0): 1,\n",
        "    (0, 1): 2,\n",
        "    (1, 0): 3,\n",
        "    (1, 1): 0,\n",
        "}\n",
        "\n",
        "gamma = 0.99\n",
        "\n",
        "# C51 : Initialization\n",
        "num_atoms = 51\n",
        "v_min, v_max = 0, 300\n",
        "delta_z = (v_max - v_min) / (num_atoms - 1)\n",
        "z_atoms = np.linspace(v_min, v_max, num_atoms)\n",
        "\n",
        "\n",
        "distributions = {\n",
        "    (0, 0): np.ones(num_atoms) / num_atoms,\n",
        "    (0, 1): np.ones(num_atoms) / num_atoms,\n",
        "    (1, 0): np.ones(num_atoms) / num_atoms,\n",
        "    (1, 1): np.ones(num_atoms) / num_atoms,\n",
        "}\n",
        "\n",
        "\n",
        "# Perform the Bellman update\n",
        "def update_distribution_c51(s, a):\n",
        "    \"\"\"Perform a C51-style Bellman optimality update for Q(s,a).\"\"\"\n",
        "    reward = rewards[(s, a)]\n",
        "    next_state_probs = transitions[(s, a)]\n",
        "\n",
        "    best_next_action_dists = []\n",
        "    for next_s, prob_sprime in enumerate(next_state_probs):\n",
        "        means_for_next_s = []\n",
        "        for a_prime in actions:\n",
        "            dist = distributions[(next_s, a_prime)]\n",
        "            means_for_next_s.append(np.sum(dist * z_atoms))\n",
        "        best_a_prime = np.argmax(means_for_next_s)\n",
        "        best_dist = distributions[(next_s, best_a_prime)]\n",
        "        best_next_action_dists.append((prob_sprime, best_dist))\n",
        "\n",
        "    # Distributional Bellman Update\n",
        "    new_dist = np.zeros(num_atoms)\n",
        "    for prob_sprime, dist_best_next_a in best_next_action_dists:\n",
        "        if prob_sprime == 0:\n",
        "            continue\n",
        "        v_proj = reward + gamma * z_atoms\n",
        "        v_proj = np.clip(v_proj, v_min, v_max)\n",
        "        b = (v_proj - v_min) / delta_z\n",
        "\n",
        "        # Projection Step\n",
        "        l = np.floor(b).astype(int)\n",
        "        u = np.ceil(b).astype(int)\n",
        "        for i in range(num_atoms):\n",
        "            l_i = l[i]\n",
        "            u_i = u[i]\n",
        "            weight_l = (u[i] - b[i]) * prob_sprime\n",
        "            weight_u = (b[i] - l[i]) * prob_sprime\n",
        "\n",
        "            if 0 <= l_i < num_atoms:\n",
        "                new_dist[l_i] += weight_l * dist_best_next_a[i]\n",
        "            if 0 <= u_i < num_atoms:\n",
        "                new_dist[u_i] += weight_u * dist_best_next_a[i]\n",
        "\n",
        "    # Normalize\n",
        "    dist_sum = new_dist.sum()\n",
        "    if dist_sum > 0:\n",
        "        return new_dist / dist_sum\n",
        "    else:\n",
        "        return np.ones(num_atoms) / num_atoms\n",
        "\n",
        "\n",
        "# Run many iterations to (approximately) converge : vary the number of iterations to adjust\n",
        "num_iterations = 300\n",
        "for _ in range(num_iterations):\n",
        "    # Update each (s,a) distribution in a loop\n",
        "    for s in states:\n",
        "        for a in actions:\n",
        "            distributions[(s, a)] = update_distribution_c51(s, a)\n",
        "\n",
        "# Check final results (Compute the mean Q-values from the distributions)\n",
        "for s in states:\n",
        "    for a in actions:\n",
        "        dist = distributions[(s, a)]\n",
        "        mean_val = np.sum(dist * z_atoms)\n",
        "        print(f\"Mean Q-value for State {s}, Action {a}: {mean_val:.3f}\")\n",
        "\n",
        "# Plot final Value Distributions\n",
        "fig, axs = plt.subplots(1, 4, figsize=(16, 4), sharey=True)\n",
        "fig.suptitle(\"Final Value Distributions (C51 - Q-learning style)\")\n",
        "\n",
        "sa_pairs = [(0,0), (0,1), (1,0), (1,1)]\n",
        "width = 0.8 * (z_atoms[1] - z_atoms[0])\n",
        "\n",
        "for idx, (s, a) in enumerate(sa_pairs):\n",
        "    dist = distributions[(s, a)]\n",
        "    ax = axs[idx]\n",
        "    ax.bar(z_atoms, dist, width=width, align=\"center\", alpha=0.7)\n",
        "    ax.set_title(f\"State {s}, Action {a}\")\n",
        "    ax.set_xlabel(\"Value\")\n",
        "    if idx == 0:\n",
        "        ax.set_ylabel(\"Probability\")\n",
        "    ax.grid(True)\n",
        "\n",
        "plt.tight_layout()\n",
        "plt.show()\n",
        "\n"
      ],
      "metadata": {
        "colab": {
          "base_uri": "https://localhost:8080/",
          "height": 413
        },
        "id": "LbzjgiYVT-fo",
        "outputId": "cd052987-a80b-4e17-b294-bdea82dc137b"
      },
      "execution_count": 16,
      "outputs": [
        {
          "output_type": "stream",
          "name": "stdout",
          "text": [
            "Mean Q-value for State 0, Action 0: 254.832\n",
            "Mean Q-value for State 0, Action 1: 256.250\n",
            "Mean Q-value for State 1, Action 0: 257.094\n",
            "Mean Q-value for State 1, Action 1: 253.771\n"
          ]
        },
        {
          "output_type": "display_data",
          "data": {
            "text/plain": [
              "<Figure size 1600x400 with 4 Axes>"
            ],
            "image/png": "[encoded data removed]"
          },
          "metadata": {}
        }
      ]
    },
    {
      "cell_type": "markdown",
      "source": [
        "## 2. Compare with the exact expected value function"
      ],
      "metadata": {
        "id": "F-83-38B4u0D"
      }
    },
    {
      "cell_type": "code",
      "source": [
        "# Initialize Q-values\n",
        "Q = np.zeros((2, 2))\n",
        "\n",
        "def V(s):\n",
        "    return max(Q[s, 0], Q[s, 1])\n",
        "\n",
        "for _ in range(1000):  # many iterations until stable\n",
        "    # For s=0,a=0:\n",
        "    Q00 = 1 + gamma * (0.8*V(0) + 0.2*V(1))\n",
        "    # For s=0,a=1:\n",
        "    Q01 = 2 + gamma * (0.3*V(0) + 0.7*V(1))\n",
        "    # For s=1,a=0:\n",
        "    Q10 = 3 + gamma * (0.5*V(0) + 0.5*V(1))\n",
        "    # For s=1,a=1:\n",
        "    Q11 = 0 + gamma * (0.9*V(0) + 0.1*V(1))\n",
        "\n",
        "    Q[0,0], Q[0,1], Q[1,0], Q[1,1] = Q00, Q01, Q10, Q11\n",
        "\n",
        "print(\"Final Q-values:\")\n",
        "print(\" Q*(0,0) =\", Q[0,0])\n",
        "print(\" Q*(0,1) =\", Q[0,1])\n",
        "print(\" Q*(1,0) =\", Q[1,0])\n",
        "print(\" Q*(1,1) =\", Q[1,1])"
      ],
      "metadata": {
        "colab": {
          "base_uri": "https://localhost:8080/"
        },
        "id": "WtBXzJcE3oWs",
        "outputId": "3e695d87-6d65-4abe-e01e-d60a9220b499"
      },
      "execution_count": 15,
      "outputs": [
        {
          "output_type": "stream",
          "name": "stdout",
          "text": [
            "Final Q-values:\n",
            " Q*(0,0) = 256.4220694644794\n",
            " Q*(0,1) = 257.8352581122257\n",
            " Q*(1,0) = 258.66998265312714\n",
            " Q*(1,1) = 255.33943173493014\n"
          ]
        }
      ]
    }
  ]
}