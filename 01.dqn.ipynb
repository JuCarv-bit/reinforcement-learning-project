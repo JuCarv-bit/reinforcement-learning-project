{
  "cells": [
    {
      "cell_type": "code",
      "source": [
        "! pip install Box2D\n"
      ],
      "metadata": {
        "colab": {
          "base_uri": "https://localhost:8080/"
        },
        "id": "Q2ns1TlSra85",
        "outputId": "c0e1c329-d270-42f1-ab65-0567108d2445"
      },
      "execution_count": 1,
      "outputs": [
        {
          "output_type": "stream",
          "name": "stdout",
          "text": [
            "Requirement already satisfied: Box2D in /usr/local/lib/python3.11/dist-packages (2.3.10)\n"
          ]
        }
      ]
    },
    {
      "cell_type": "markdown",
      "metadata": {
        "id": "NgpIAzUUoX3f"
      },
      "source": [
        "## Configurations for Colab"
      ]
    },
    {
      "cell_type": "code",
      "execution_count": 2,
      "metadata": {
        "colab": {
          "base_uri": "https://localhost:8080/"
        },
        "id": "shX7fF3roX3l",
        "outputId": "699e776d-8ae4-4e66-f6d9-8b7d989d49ed"
      },
      "outputs": [
        {
          "output_type": "stream",
          "name": "stdout",
          "text": [
            "Reading package lists... Done\n",
            "Building dependency tree... Done\n",
            "Reading state information... Done\n",
            "\u001b[1;31mE: \u001b[0mUnable to locate package python-opengl\u001b[0m\n",
            "Reading package lists... Done\n",
            "Building dependency tree... Done\n",
            "Reading state information... Done\n",
            "ffmpeg is already the newest version (7:4.4.2-0ubuntu0.22.04.1).\n",
            "0 upgraded, 0 newly installed, 0 to remove and 29 not upgraded.\n",
            "Reading package lists... Done\n",
            "Building dependency tree... Done\n",
            "Reading state information... Done\n",
            "xvfb is already the newest version (2:21.1.4-2ubuntu1.7~22.04.13).\n",
            "0 upgraded, 0 newly installed, 0 to remove and 29 not upgraded.\n",
            "Requirement already satisfied: PyVirtualDisplay==3.0 in /usr/local/lib/python3.11/dist-packages (3.0)\n",
            "Requirement already satisfied: gymnasium==0.28.1 in /usr/local/lib/python3.11/dist-packages (0.28.1)\n",
            "Requirement already satisfied: numpy>=1.21.0 in /usr/local/lib/python3.11/dist-packages (from gymnasium==0.28.1) (1.26.4)\n",
            "Requirement already satisfied: jax-jumpy>=1.0.0 in /usr/local/lib/python3.11/dist-packages (from gymnasium==0.28.1) (1.0.0)\n",
            "Requirement already satisfied: cloudpickle>=1.2.0 in /usr/local/lib/python3.11/dist-packages (from gymnasium==0.28.1) (3.1.1)\n",
            "Requirement already satisfied: typing-extensions>=4.3.0 in /usr/local/lib/python3.11/dist-packages (from gymnasium==0.28.1) (4.12.2)\n",
            "Requirement already satisfied: farama-notifications>=0.0.1 in /usr/local/lib/python3.11/dist-packages (from gymnasium==0.28.1) (0.0.4)\n"
          ]
        }
      ],
      "source": [
        "import sys\n",
        "IN_COLAB = \"google.colab\" in sys.modules\n",
        "\n",
        "if IN_COLAB:\n",
        "    !apt install python-opengl\n",
        "    !apt install ffmpeg\n",
        "    !apt install xvfb\n",
        "    !pip install PyVirtualDisplay==3.0\n",
        "    !pip install gymnasium==0.28.1\n",
        "    from pyvirtualdisplay import Display\n",
        "\n",
        "    # Start virtual display\n",
        "    dis = Display(visible=0, size=(400, 400))\n",
        "    dis.start()"
      ]
    },
    {
      "cell_type": "markdown",
      "metadata": {
        "id": "ZBD16SB_oX3n"
      },
      "source": [
        "# 01. DQN\n",
        "\n",
        "[V. Mnih et al., \"Human-level control through deep reinforcement learning.\" Nature, 518\n",
        "(7540):529–533, 2015.](https://storage.googleapis.com/deepmind-media/dqn/DQNNaturePaper.pdf)\n",
        "\n",
        "Reinforcement learning is known to be unstable or even to diverge when a nonlinear function approximator such as a neural network is used to represent the action-value (also known as $Q$) function. This instability has several causes: the correlations present in the sequence of observations, the fact that small updates to $Q$ may significantly change the policy and therefore change the data distribution, and the correlations between the action-values ($Q$) and the target values $r + \\gamma \\max_{a'} Q(s', a')$.\n",
        "\n",
        "The authors suggest two key ideas to address these instabilities with a novel variant of Q-learning: Replay buffer and Fixed Q-target.\n",
        "\n",
        "#### Uniformly random sampling from Experience Replay Memory\n",
        "\n",
        "Reinforcement learning agent stores the experiences consecutively in the buffer, so adjacent ($s, a, r, s'$) transitions stored are highly likely to have correlation. To remove this, the agent samples experiences uniformly at random from the pool of stored samples $\\big( (s, a, r, s') \\sim U(D) \\big)$. See sample_batch method of ReplayBuffer class for more details.\n",
        "\n",
        "#### Fixed Q-target\n",
        "\n",
        "DQN uses an iterative update that adjusts the action-values ($Q$) towards target values that are only periodically updated, thereby reducing correlations with the target; if not, it is easily divergy because the target continuously moves. The Q-learning update at iteration $i$ uses the following loss function:\n",
        "\n",
        "$$\n",
        "L_i(\\theta_i) = \\mathbb{E}_{(s,a,r,s') \\sim U(D)} \\big[ \\big( r + \\gamma \\max_{a'} Q(s',a';\\theta_i^-) - Q(s, a; \\theta_i) \\big)^2 \\big]\n",
        "$$\n",
        "\n",
        "in which $\\gamma$ is the discount factor determining the agent’s horizon, $\\theta_i$ are the parameters of the Q-network at iteration $i$ and $\\theta_i^-$ are the network parameters used to compute the target at iteration $i$. The target network parameters $\\theta_i^-$ are only updated with the Q-network parameters ($\\theta_i$) every C steps and are held fixed between individual updates. ($C = 200$ in CartPole-v0)\n",
        "\n",
        "#### For more stability: Gradient clipping\n",
        "\n",
        "The authors also found it helpful to clip the error term from the update $r + \\gamma \\max_{a'} Q(s', a'; \\theta_i^-) - Q(s,a,;\\theta_i)$ to be between -1 and 1. Because the absolute value loss function $|x|$ has a derivative of -1 for all negative values of x and a derivative of 1 for all positive values of x, clipping the squared error to be between -1 and 1 corresponds to using an absolute value loss function for errors outside of the (-1,1) interval. This form of error clipping further improved the stability of the algorithm."
      ]
    },
    {
      "cell_type": "code",
      "execution_count": 3,
      "metadata": {
        "id": "ktB1VySPoX3o"
      },
      "outputs": [],
      "source": [
        "import os\n",
        "from typing import Dict, List, Tuple\n",
        "\n",
        "import gymnasium as gym\n",
        "import matplotlib.pyplot as plt\n",
        "import numpy as np\n",
        "import torch\n",
        "import torch.nn as nn\n",
        "import torch.nn.functional as F\n",
        "import torch.optim as optim\n",
        "from IPython.display import clear_output"
      ]
    },
    {
      "cell_type": "markdown",
      "metadata": {
        "id": "-bSHmSQEoX3q"
      },
      "source": [
        "## Replay buffer\n",
        "\n",
        "Typically, people implement replay buffers with one of the following three data structures:\n",
        "\n",
        "  - collections.deque\n",
        "  - list\n",
        "  - numpy.ndarray\n",
        "  \n",
        "**deque** is very easy to handle once you initialize its maximum length (e.g. deque(maxlen=buffer_size)). However, the indexing operation of deque gets terribly slow as it grows up because it is [internally doubly linked list](https://wiki.python.org/moin/TimeComplexity#collections.deque). On the other hands, **list** is an array, so it is relatively faster than deque when you sample batches at every step. Its amortized cost of  *Get item* is [O(1)](https://wiki.python.org/moin/TimeComplexity#list).\n",
        "\n",
        "Last but not least, let's see **numpy.ndarray**. numpy.ndarray is even faster than list due to the fact that it is [a homogeneous array of fixed-size items](https://docs.scipy.org/doc/numpy/reference/generated/numpy.ndarray.html#numpy.ndarray), so you can get the benefits of [locality of reference](https://en.wikipedia.org/wiki/Locality_of_reference). Whereas list is an array of pointers to objects, even when all of them are of the same type.\n",
        "\n",
        "Here, we are going to implement a replay buffer using numpy.ndarray.\n",
        "\n",
        "\n",
        "Reference: [OpenAI spinning-up](https://github.com/openai/spinningup/blob/master/spinup/algos/sac/sac.py#L10)"
      ]
    },
    {
      "cell_type": "code",
      "execution_count": 4,
      "metadata": {
        "id": "93FmlcHjoX3r"
      },
      "outputs": [],
      "source": [
        "class ReplayBuffer:\n",
        "    \"\"\"A simple numpy replay buffer.\"\"\"\n",
        "\n",
        "    def __init__(self, obs_dim: int, size: int, batch_size: int = 32):\n",
        "        self.obs_buf = np.zeros([size, obs_dim], dtype=np.float32)\n",
        "        self.next_obs_buf = np.zeros([size, obs_dim], dtype=np.float32)\n",
        "        self.acts_buf = np.zeros([size], dtype=np.float32)\n",
        "        self.rews_buf = np.zeros([size], dtype=np.float32)\n",
        "        self.done_buf = np.zeros(size, dtype=np.float32)\n",
        "        self.max_size, self.batch_size = size, batch_size\n",
        "        self.ptr, self.size, = 0, 0\n",
        "\n",
        "    def store(\n",
        "        self,\n",
        "        obs: np.ndarray,\n",
        "        act: np.ndarray,\n",
        "        rew: float,\n",
        "        next_obs: np.ndarray,\n",
        "        done: bool,\n",
        "    ):\n",
        "        self.obs_buf[self.ptr] = obs\n",
        "        self.next_obs_buf[self.ptr] = next_obs\n",
        "        self.acts_buf[self.ptr] = act\n",
        "        self.rews_buf[self.ptr] = rew\n",
        "        self.done_buf[self.ptr] = done\n",
        "        self.ptr = (self.ptr + 1) % self.max_size\n",
        "        self.size = min(self.size + 1, self.max_size)\n",
        "\n",
        "    def sample_batch(self) -> Dict[str, np.ndarray]:\n",
        "        idxs = np.random.choice(self.size, size=self.batch_size, replace=False)\n",
        "        return dict(obs=self.obs_buf[idxs],\n",
        "                    next_obs=self.next_obs_buf[idxs],\n",
        "                    acts=self.acts_buf[idxs],\n",
        "                    rews=self.rews_buf[idxs],\n",
        "                    done=self.done_buf[idxs])\n",
        "\n",
        "    def __len__(self) -> int:\n",
        "        return self.size"
      ]
    },
    {
      "cell_type": "markdown",
      "metadata": {
        "id": "E3PSXLokoX3r"
      },
      "source": [
        "## Network\n",
        "\n",
        "We are going to use a simple network architecture with three fully connected layers and two non-linearity functions (ReLU)."
      ]
    },
    {
      "cell_type": "code",
      "execution_count": 5,
      "metadata": {
        "id": "yOw1uiYAoX3s"
      },
      "outputs": [],
      "source": [
        "class Network(nn.Module):\n",
        "    def __init__(self, in_dim: int, out_dim: int):\n",
        "        \"\"\"Initialization.\"\"\"\n",
        "        super(Network, self).__init__()\n",
        "\n",
        "        self.layers = nn.Sequential(\n",
        "            nn.Linear(in_dim, 128),\n",
        "            nn.ReLU(),\n",
        "            nn.Linear(128, 128),\n",
        "            nn.ReLU(),\n",
        "            nn.Linear(128, out_dim)\n",
        "        )\n",
        "\n",
        "    def forward(self, x: torch.Tensor) -> torch.Tensor:\n",
        "        \"\"\"Forward method implementation.\"\"\"\n",
        "        return self.layers(x)"
      ]
    },
    {
      "cell_type": "markdown",
      "metadata": {
        "id": "29O7YQg1oX3t"
      },
      "source": [
        "## DQN Agent\n",
        "\n",
        "Here is a summary of DQNAgent class.\n",
        "\n",
        "| Method           | Note                                                 |\n",
        "| ---              | ---                                                  |\n",
        "|select_action     | select an action from the input state.               |\n",
        "|step              | take an action and return the response of the env.   |\n",
        "|compute_dqn_loss  | return dqn loss.                                     |\n",
        "|update_model      | update the model by gradient descent.                |\n",
        "|target_hard_update| hard update from the local model to the target model.|\n",
        "|train             | train the agent during num_frames.                   |\n",
        "|test              | test the agent (1 episode).                          |\n",
        "|plot              | plot the training progresses.                        |\n"
      ]
    },
    {
      "cell_type": "code",
      "execution_count": 6,
      "metadata": {
        "id": "UJWiYYnVoX3u"
      },
      "outputs": [],
      "source": [
        "class DQNAgent:\n",
        "    \"\"\"DQN Agent interacting with environment.\n",
        "\n",
        "    Attribute:\n",
        "        env (gym.Env): openAI Gym environment\n",
        "        memory (ReplayBuffer): replay memory to store transitions\n",
        "        batch_size (int): batch size for sampling\n",
        "        epsilon (float): parameter for epsilon greedy policy\n",
        "        epsilon_decay (float): step size to decrease epsilon\n",
        "        max_epsilon (float): max value of epsilon\n",
        "        min_epsilon (float): min value of epsilon\n",
        "        target_update (int): period for target model's hard update\n",
        "        gamma (float): discount factor\n",
        "        dqn (Network): model to train and select actions\n",
        "        dqn_target (Network): target model to update\n",
        "        optimizer (torch.optim): optimizer for training dqn\n",
        "        transition (list): transition information including\n",
        "                           state, action, reward, next_state, done\n",
        "    \"\"\"\n",
        "\n",
        "    def __init__(\n",
        "        self,\n",
        "        env: gym.Env,\n",
        "        memory_size: int,\n",
        "        batch_size: int,\n",
        "        target_update: int,\n",
        "        epsilon_decay: float,\n",
        "        seed: int,\n",
        "        max_epsilon: float = 1.0,\n",
        "        min_epsilon: float = 0.1,\n",
        "        gamma: float = 0.99,\n",
        "    ):\n",
        "        \"\"\"Initialization.\n",
        "\n",
        "        Args:\n",
        "            env (gym.Env): openAI Gym environment\n",
        "            memory_size (int): length of memory\n",
        "            batch_size (int): batch size for sampling\n",
        "            target_update (int): period for target model's hard update\n",
        "            epsilon_decay (float): step size to decrease epsilon\n",
        "            lr (float): learning rate\n",
        "            max_epsilon (float): max value of epsilon\n",
        "            min_epsilon (float): min value of epsilon\n",
        "            gamma (float): discount factor\n",
        "        \"\"\"\n",
        "        obs_dim = env.observation_space.shape[0]\n",
        "        action_dim = env.action_space.n\n",
        "\n",
        "        self.env = env\n",
        "        self.memory = ReplayBuffer(obs_dim, memory_size, batch_size)\n",
        "        self.batch_size = batch_size\n",
        "        self.epsilon = max_epsilon\n",
        "        self.epsilon_decay = epsilon_decay\n",
        "        self.seed = seed\n",
        "        self.max_epsilon = max_epsilon\n",
        "        self.min_epsilon = min_epsilon\n",
        "        self.target_update = target_update\n",
        "        self.gamma = gamma\n",
        "\n",
        "        # device: cpu / gpu\n",
        "        self.device = torch.device(\n",
        "            \"cuda\" if torch.cuda.is_available() else \"cpu\"\n",
        "        )\n",
        "        print(self.device)\n",
        "\n",
        "        # networks: dqn, dqn_target\n",
        "        self.dqn = Network(obs_dim, action_dim).to(self.device)\n",
        "        self.dqn_target = Network(obs_dim, action_dim).to(self.device)\n",
        "        self.dqn_target.load_state_dict(self.dqn.state_dict())\n",
        "        self.dqn_target.eval()\n",
        "\n",
        "        # optimizer\n",
        "        self.optimizer = optim.Adam(self.dqn.parameters())\n",
        "\n",
        "        # transition to store in memory\n",
        "        self.transition = list()\n",
        "\n",
        "        # mode: train / test\n",
        "        self.is_test = False\n",
        "\n",
        "    def select_action(self, state: np.ndarray) -> np.ndarray:\n",
        "        \"\"\"Select an action from the input state.\"\"\"\n",
        "        # epsilon greedy policy\n",
        "        if self.epsilon > np.random.random():\n",
        "            selected_action = self.env.action_space.sample()\n",
        "        else:\n",
        "            selected_action = self.dqn(\n",
        "                torch.FloatTensor(state).to(self.device)\n",
        "            ).argmax()\n",
        "            selected_action = selected_action.detach().cpu().numpy()\n",
        "\n",
        "        if not self.is_test:\n",
        "            self.transition = [state, selected_action]\n",
        "\n",
        "        return selected_action\n",
        "\n",
        "    def step(self, action: np.ndarray) -> Tuple[np.ndarray, np.float64, bool]:\n",
        "        \"\"\"Take an action and return the response of the env.\"\"\"\n",
        "        next_state, reward, terminated, truncated, _ = self.env.step(action)\n",
        "        done = terminated or truncated\n",
        "\n",
        "        if not self.is_test:\n",
        "            self.transition += [reward, next_state, done]\n",
        "            self.memory.store(*self.transition)\n",
        "\n",
        "        return next_state, reward, done\n",
        "\n",
        "    def update_model(self) -> torch.Tensor:\n",
        "        \"\"\"Update the model by gradient descent.\"\"\"\n",
        "        samples = self.memory.sample_batch()\n",
        "\n",
        "        loss = self._compute_dqn_loss(samples)\n",
        "\n",
        "        self.optimizer.zero_grad()\n",
        "        loss.backward()\n",
        "        self.optimizer.step()\n",
        "\n",
        "        return loss.item()\n",
        "\n",
        "    def train(self, num_frames: int, plotting_interval: int = 200):\n",
        "        \"\"\"Train the agent.\"\"\"\n",
        "        self.is_test = False\n",
        "\n",
        "        state, _ = self.env.reset(seed=self.seed)\n",
        "        update_cnt = 0\n",
        "        epsilons = []\n",
        "        losses = []\n",
        "        scores = []\n",
        "        score = 0\n",
        "\n",
        "        for frame_idx in range(1, num_frames + 1):\n",
        "            action = self.select_action(state)\n",
        "            next_state, reward, done = self.step(action)\n",
        "\n",
        "            state = next_state\n",
        "            score += reward\n",
        "\n",
        "            # if episode ends\n",
        "            if done:\n",
        "                state, _ = self.env.reset(seed=self.seed)\n",
        "                scores.append(score)\n",
        "                score = 0\n",
        "\n",
        "            # if training is ready\n",
        "            if len(self.memory) >= self.batch_size:\n",
        "                loss = self.update_model()\n",
        "                losses.append(loss)\n",
        "                update_cnt += 1\n",
        "\n",
        "                # linearly decrease epsilon\n",
        "                self.epsilon = max(\n",
        "                    self.min_epsilon, self.epsilon - (\n",
        "                        self.max_epsilon - self.min_epsilon\n",
        "                    ) * self.epsilon_decay\n",
        "                )\n",
        "                epsilons.append(self.epsilon)\n",
        "\n",
        "                # if hard update is needed\n",
        "                if update_cnt % self.target_update == 0:\n",
        "                    self._target_hard_update()\n",
        "\n",
        "            # plotting\n",
        "            if frame_idx % plotting_interval == 0:\n",
        "                self._plot(frame_idx, scores, losses, epsilons)\n",
        "\n",
        "        self.env.close()\n",
        "\n",
        "    def test(self, video_folder: str) -> None:\n",
        "        \"\"\"Test the agent.\"\"\"\n",
        "        self.is_test = True\n",
        "\n",
        "        # for recording a video\n",
        "        naive_env = self.env\n",
        "        self.env = gym.wrappers.RecordVideo(self.env, video_folder=video_folder)\n",
        "\n",
        "        state, _ = self.env.reset(seed=self.seed)\n",
        "        done = False\n",
        "        score = 0\n",
        "\n",
        "        while not done:\n",
        "            action = self.select_action(state)\n",
        "            next_state, reward, done = self.step(action)\n",
        "\n",
        "            state = next_state\n",
        "            score += reward\n",
        "\n",
        "        print(\"score: \", score)\n",
        "        self.env.close()\n",
        "\n",
        "        # reset\n",
        "        self.env = naive_env\n",
        "\n",
        "    def _compute_dqn_loss(self, samples: Dict[str, np.ndarray]) -> torch.Tensor:\n",
        "        \"\"\"Return dqn loss.\"\"\"\n",
        "        device = self.device  # for shortening the following lines\n",
        "        state = torch.FloatTensor(samples[\"obs\"]).to(device)\n",
        "        next_state = torch.FloatTensor(samples[\"next_obs\"]).to(device)\n",
        "        action = torch.LongTensor(samples[\"acts\"].reshape(-1, 1)).to(device)\n",
        "        reward = torch.FloatTensor(samples[\"rews\"].reshape(-1, 1)).to(device)\n",
        "        done = torch.FloatTensor(samples[\"done\"].reshape(-1, 1)).to(device)\n",
        "\n",
        "        # G_t   = r + gamma * v(s_{t+1})  if state != Terminal\n",
        "        #       = r                       otherwise\n",
        "        curr_q_value = self.dqn(state).gather(1, action)\n",
        "        next_q_value = self.dqn_target(\n",
        "            next_state\n",
        "        ).max(dim=1, keepdim=True)[0].detach()\n",
        "        mask = 1 - done\n",
        "        target = (reward + self.gamma * next_q_value * mask).to(self.device)\n",
        "\n",
        "        # calculate dqn loss\n",
        "        loss = F.smooth_l1_loss(curr_q_value, target)\n",
        "\n",
        "        return loss\n",
        "\n",
        "    def _target_hard_update(self):\n",
        "        \"\"\"Hard update: target <- local.\"\"\"\n",
        "        self.dqn_target.load_state_dict(self.dqn.state_dict())\n",
        "\n",
        "    def _plot(\n",
        "        self,\n",
        "        frame_idx: int,\n",
        "        scores: List[float],\n",
        "        losses: List[float],\n",
        "        epsilons: List[float],\n",
        "    ):\n",
        "        \"\"\"Plot the training progresses.\"\"\"\n",
        "        clear_output(True)\n",
        "        plt.figure(figsize=(20, 5))\n",
        "        plt.subplot(131)\n",
        "        plt.title('frame %s. score: %s' % (frame_idx, np.mean(scores[-10:])))\n",
        "        plt.plot(scores)\n",
        "        plt.subplot(132)\n",
        "        plt.title('loss')\n",
        "        plt.plot(losses)\n",
        "        plt.subplot(133)\n",
        "        plt.title('epsilons')\n",
        "        plt.plot(epsilons)\n",
        "        plt.show()"
      ]
    },
    {
      "cell_type": "markdown",
      "metadata": {
        "id": "zNM55vMcoX3w"
      },
      "source": [
        "## Environment\n",
        "\n",
        "You can see the [code](https://github.com/Farama-Foundation/Gymnasium/blob/main/gymnasium/envs/classic_control/cartpole.py) and [configurations](https://github.com/Farama-Foundation/Gymnasium/blob/main/gymnasium/envs/classic_control/cartpole.py#L91) of CartPole-v1 from Farama Gymnasium's repository."
      ]
    },
    {
      "cell_type": "code",
      "execution_count": 7,
      "metadata": {
        "id": "ZFai4LFDoX3w"
      },
      "outputs": [],
      "source": [
        "# environment\n",
        "env = gym.make(\"LunarLander-v2\", max_episode_steps=2000, render_mode=\"rgb_array\")"
      ]
    },
    {
      "cell_type": "markdown",
      "metadata": {
        "id": "ceWU-_LnoX3x"
      },
      "source": [
        "## Set random seed"
      ]
    },
    {
      "cell_type": "code",
      "execution_count": 8,
      "metadata": {
        "id": "zfeFxWbmoX3x"
      },
      "outputs": [],
      "source": [
        "seed = 777\n",
        "\n",
        "def seed_torch(seed):\n",
        "    torch.manual_seed(seed)\n",
        "    if torch.backends.cudnn.enabled:\n",
        "        torch.cuda.manual_seed(seed)\n",
        "        torch.backends.cudnn.benchmark = False\n",
        "        torch.backends.cudnn.deterministic = True\n",
        "\n",
        "np.random.seed(seed)\n",
        "seed_torch(seed)"
      ]
    },
    {
      "cell_type": "markdown",
      "metadata": {
        "id": "gf6YoRX0oX3x"
      },
      "source": [
        "## Initialize"
      ]
    },
    {
      "cell_type": "code",
      "execution_count": 9,
      "metadata": {
        "colab": {
          "base_uri": "https://localhost:8080/"
        },
        "id": "aXOOit2WoX3y",
        "outputId": "a73994ab-e5c1-4db0-c405-c51df0c7876c"
      },
      "outputs": [
        {
          "output_type": "stream",
          "name": "stdout",
          "text": [
            "cpu\n"
          ]
        }
      ],
      "source": [
        "# parameters\n",
        "num_frames = 10000\n",
        "memory_size = 1000\n",
        "batch_size = 32\n",
        "target_update = 100\n",
        "epsilon_decay = 1 / 2000\n",
        "\n",
        "agent = DQNAgent(env, memory_size, batch_size, target_update, epsilon_decay, seed)"
      ]
    },
    {
      "cell_type": "markdown",
      "metadata": {
        "id": "hS1DSH2BoX3y"
      },
      "source": [
        "## Train"
      ]
    },
    {
      "cell_type": "code",
      "execution_count": 10,
      "metadata": {
        "colab": {
          "base_uri": "https://localhost:8080/",
          "height": 468
        },
        "id": "Teu7W0cVoX3y",
        "outputId": "5510a5e5-8aa8-4e94-fbe8-52f7d57c2296"
      },
      "outputs": [
        {
          "output_type": "display_data",
          "data": {
            "text/plain": [
              "<Figure size 2000x500 with 3 Axes>"
            ],
            "image/png": "[encoded data removed]"
          },
          "metadata": {}
        }
      ],
      "source": [
        "agent.train(num_frames)"
      ]
    },
    {
      "cell_type": "markdown",
      "metadata": {
        "id": "3FaxcDBFoX3z"
      },
      "source": [
        "## Test\n",
        "\n",
        "Run the trained agent (1 episode)."
      ]
    },
    {
      "cell_type": "code",
      "execution_count": 11,
      "metadata": {
        "colab": {
          "base_uri": "https://localhost:8080/"
        },
        "id": "NQlafQfBoX3z",
        "outputId": "ba83ed88-a91b-43f9-d708-a0eb6459a977"
      },
      "outputs": [
        {
          "output_type": "stream",
          "name": "stderr",
          "text": [
            "/usr/local/lib/python3.11/dist-packages/gymnasium/wrappers/record_video.py:87: UserWarning: \u001b[33mWARN: Overwriting existing videos at /content/videos/dqn folder (try specifying a different `video_folder` for the `RecordVideo` wrapper if this is not desired)\u001b[0m\n",
            "  logger.warn(\n"
          ]
        },
        {
          "output_type": "stream",
          "name": "stdout",
          "text": [
            "Moviepy - Building video /content/videos/dqn/rl-video-episode-0.mp4.\n",
            "Moviepy - Writing video /content/videos/dqn/rl-video-episode-0.mp4\n",
            "\n"
          ]
        },
        {
          "output_type": "stream",
          "name": "stderr",
          "text": []
        },
        {
          "output_type": "stream",
          "name": "stdout",
          "text": [
            "Moviepy - Done !\n",
            "Moviepy - video ready /content/videos/dqn/rl-video-episode-0.mp4\n",
            "score:  34.80989749428664\n"
          ]
        }
      ],
      "source": [
        "video_folder=\"videos/dqn\"\n",
        "agent.test(video_folder=video_folder)"
      ]
    },
    {
      "cell_type": "markdown",
      "metadata": {
        "id": "II4y4odUoX3z"
      },
      "source": [
        "## Render"
      ]
    },
    {
      "cell_type": "code",
      "execution_count": 12,
      "metadata": {
        "colab": {
          "base_uri": "https://localhost:8080/",
          "height": 279
        },
        "id": "mbkXw9uOoX30",
        "outputId": "6d22e0b7-3da3-447e-851b-bc166be73a9f"
      },
      "outputs": [
        {
          "output_type": "display_data",
          "data": {
            "text/plain": [
              "<IPython.core.display.HTML object>"
            ],
            "text/html": [
              "\n",
              "        <video width=\"320\" height=\"240\" alt=\"test\" controls>\n",
              "        <source src=\"data:video/mp4;base64,AAAAIGZ0eXBpc29tAAACAGlzb21pc28yYXZjMW1wNDEAAAAIZnJlZQAAjwVtZGF0AAACrgYF//+q3EXpvebZSLeWLNgg2SPu73gyNjQgLSBjb3JlIDE2NCByMzE5MSA0NjEzYWMzIC0gSC4yNjQvTVBFRy00IEFWQyBjb2RlYyAtIENvcHlsZWZ0IDIwMDMtMjAyNCAtIGh0dHA6Ly93d3cudmlkZW9sYW4ub3JnL3gyNjQuaHRtbCAtIG9wdGlvbnM6IGNhYmFjPTEgcmVmPTMgZGVibG9jaz0xOjA6MCBhbmFseXNlPTB4MzoweDExMyBtZT1oZXggc3VibWU9NyBwc3k9MSBwc3lfcmQ9MS4wMDowLjAwIG1peGVkX3JlZj0xIG1lX3JhbmdlPTE2IGNocm9tYV9tZT0xIHRyZWxsaXM9MSA4eDhkY3Q9MSBjcW09MCBkZWFkem9uZT0yMSwxMSBmYXN0X3Bza2lwPTEgY2hyb21hX3FwX29mZnNldD0tMiB0aHJlYWRzPTMgbG9va2FoZWFkX3RocmVhZHM9MSBzbGljZWRfdGhyZWFkcz0wIG5yPTAgZGVjaW1hdGU9MSBpbnRlcmxhY2VkPTAgYmx1cmF5X2NvbXBhdD0wIGNvbnN0cmFpbmVkX2ludHJhPTAgYmZyYW1lcz0zIGJfcHlyYW1pZD0yIGJfYWRhcHQ9MSBiX2JpYXM9MCBkaXJlY3Q9MSB3ZWlnaHRiPTEgb3Blbl9nb3A9MCB3ZWlnaHRwPTIga2V5aW50PTI1MCBrZXlpbnRfbWluPTI1IHNjZW5lY3V0PTQwIGludHJhX3JlZnJlc2g9MCByY19sb29rYWhlYWQ9NDAgcmM9Y3JmIG1idHJlZT0xIGNyZj0yMy4wIHFjb21wPTAuNjAgcXBtaW49MCBxcG1heD02OSBxcHN0ZXA9NCBpcF9yYXRpbz0xLjQwIGFxPTE6MS4wMACAAAAGF2WIhAAz//727L4FNhTIUJcRLMXaSnA+KqSAgHc02r/DxT6sAG1mpDrVrJzFJMRGP8aW2VtROlhW5V/EzL75H+4wmjw3r4K7nVJAfCTjae6hLWncg9tm3TFDyRpacmeCbvh+nKnhQDtYH0f//jpQP9P6IkOGIzJ9u4HxrQ/cPB/XHqZNYH5yqIFwGDXYF72sfdsakehMdQKXvXOLzf8Xa1FVF7IFgXVEOuf8PooisfRF469e/61v6uQw4Ds3lvSbKl0HYQ1IBLxp0/BiAAADAAAHwVj4zvzkVa0bTnsmDr4AATYKg1soO0MKMcOYRwew3hyjdIcXQF4DAUuk6tdq8sG89phtU3mq9dktXlMpopGhhJWqCZU66pgfGPIg3I5WOCNU2efUJN4ohMNjpevBAawKmIxhkfcIMe/cWgqOI970H0SVuB3gOgJvYSSVdZSTdOw92YJB1Mu+/hGB+q008tKd9hldLRYCrp81b2lfcbAXpIKfHTkMAwbsv7h4GyW0tQOK8k9Nwn0LQvfqictwFZTZQo8dg51X0VoK2mI7Xh1uR67MBXe8q5NF2iXxWkXUB6lConF6sqfhPcgYXzycZ+0rE0YBp+QSQYH04Q6k1IIQX5BjVr2CKzr9dktYeIt7F0WakqR2kTZQFqG+i4kVDA4kLCO654X+uKkMnEtZbGIXlxk4Zi0gvuL3bGl/BJuflu2g25uROEkALOmwyUe7TbhTr6cd0AMaTxl3sOdPHmy4oJmk02dbnME6bKkg8KaGtTYS35N2ZMEJDtYjpaVq8IVI/QOKSgthdK5KyErL+h7V5QHWLdMYT/5te2EljlAAiTvUBYp2ynXhLYxHKxgKssGsQijzIVTk8jcCMeHher6/Vke9cciI+//R6hVZ1CBMZLQXCR1OKQlFTjUpOB2OQmJ6Meeo6ny1M79y+tW4EPXbzQhXOJEVs4/209tUlkalCQv5aTZUhV8W7AZIUIv9IkobRCcUnt6SZV+AJH979d4YAeJ/1nM3ZcN1TfmLj2Ojq96haehf+GODNk4H2f0jmvB0T/rdeoX0PfY7zueZmztQvuV8smTsARPiqFsKnjYnLefKV50NaDW45Wiquy1FvxsCoSysA8zZJb8IMyq08FsOTIA3xoqlLIFsZGIDpT12SvknYwRTlcMwfJw11D+OJrtqTaY03ldGpHJOIq9NthXe2nl5E8849cwaoAiLAZ9w6LWI+oeFdVa0auseZ9uKHQawns54DQWve5MqskW1NtZriwXsPWVK4yBsLGiOEixJmP/KEADK6r/FrqFCSxO4rwqasP4i7GDYRj+In+uafszbDLYunskujwGI0CHnRMUsxLDWxIRZEvC+e7nmDyov7JDLH6sxR5qLBm6j8A+wSg8tS7tPf9qe2mfpK90RXvEmjh6c0wwLVZ82bAIIXW3mesRwSUTU0Je4nREH41fDRVn2f4/mXzdGAGfhMstxASLPWxGDHOCs0VmGh9xIAps0a2VqWaP84TA12H+oYyt9Urzbtsfd3cgLQKrUeSNVhmHq7t+xWm3Sx7QbYCr7uoWRowgyPMtlZgNAE1V2pe6jO8RE8+p8J8u34O4i+1miH/dCCvMLhqS5Y/LngHyrlPU0VStrOkuQj9f1A84RZrO6jzyZ1w4PNMVof9TNqEpGUsbVBO21RctCDvmCrMKpd7LweiTYGdTtqANU7FPsnRi8rd2ubemo/q4cr8KL8A1LmbAxf+mfD0K+0dY1BI2OzJ+1MOoyfp6AU+1aFgsJtwdx4wlCepFb8f5WLB+CixQH2NOZQ8itSCcNR/k/lue8lYYEezBCS1E8jn4OqlrUB8Sk6G4Bn4vTwhyF6Q6h4AABNt9SpX4aigFST4kLqHpWvpWdzRLMo+6/Gp7643iAjAWRSoAUGeLX9T3DO0MH5ZuO1x5JfzHZH+E5kLlXmWxx3BwD72MfgrVIEAA1z1KUsxcSZ3meYIjBQL9mHsgScPa9gxtXSge0jD9AKESl3vV2p+R+4xtkZKP/56GzsNXrncQSvMr1cJDI8niWADU9b/SD22y68h/Q+ccTSpBDxmctQHX3sqXuVqAFqA3JAAABlkGaJGxDP/6eLbp/qZKtz/PY0LiAD923elKzi/RGMuX41/7vDV9UjLTlsL/7kkxOHEVZsf7STJDLbAZwlsQ9NRJbcykYRihrV7L3lqriA/vAQxrIjxV0ClFpj8XP7EAiUdS66dvuKcmTlnymhpVXqbiW/57f9ufAbXO1043wBa9CX539qiPLkZkl+Luo3ZaSYp2Ht+OiZ0IkFQQ9+JcCbJHUQvqgACzcyO/balUctJnIuQUshfhHFC1hb15W4jTSavDoCIP1s3zGSx4w9Qft5EeNUQy5eB50SptLApVtIONQ15A0SpaibfoAJMKG+zQrziALFPVx4XvSPBG5+8QORepm6AyIOYgASosZDUMxN8F87XKJ3jgvnhpn6IETBVgYfIH26q9IrKtAk3ljM5mO1h7v+2kL5fy1c10PezN3dLKrfCnuTOFouWkBFPSUoH0cOQbOW+Ka+DFtX99enFJO+poYyaJPvYTf0UsH/VxTI8y5rrxJM9oXoit0uSZVLBRWeStzoyaBvIbZo0iR+BiLGIAPkQN1gIAAAABWQZ5CeIR/DyPSnSqrmVwF5mwwATqWRENoEWcR4Nme04e2kszQSrW4OYH2AElR7WsQsQjy/g57LVd3Wkkq9HSPKsnvoNO+iXKT/WoMmpmwi9hrPwcveSEAAABLAZ5hdEf/FOCN3CBm+21u3/jHgTKCkw2+LBICAAr03l2CatgpaAXkwAABkk7CZJwV+ilracn4fxcOvhlstqLY4JqKmUrN5PM0CWNgAAAAOgGeY2pH/xT9UQTu9EBCwl7lLo5Vc+ymA4r2AAQYoZRV5KywdYfhHpAwS9aX+Hzqof+9HIGNL6I6U90AAAClQZpoSahBaJlMCGf//p4ir8Dlrp8bYAE5zmqDJWRv8gxg1MrbM72M8Um/mdLnRk+Cw+f/B3EhGNvAykzsZ4HR9ohPy13HlD/XjlKsGbddQG0nG+uK68X7vUaOK+XOO0AAFWn3CcyRszd7taMwWI7NvKUsw5SyNZWdNnpEz90igBY5/3Ce1KpzGReejcyTTrolrishXMBLaWNEGAAAgSvQAQZWHMvBAAAAUEGehkURLCP/DXOBlG7ymABthG67JH/KJeZj8YoBydtzWx/Nb7b3YGysgA2EJO4SEORX1+rAKHbJafeI9tJbip7XlD1WawpLaHC/ScVBhc+7AAAALwGepXRH/xMojTWoUvIEqV5IABzpcu7kzdmCXp6NCWEVcqEk9iLIfJ2BZTBISzKhAAAAPwGep2pH/xLm5IDV4wE4r5PZRQAl8BDiAbXrL5QIsFAUADZsymgG55QW6qXeTgjcv+6ZgYrt1jBsx7eoOwyigAAAAN5BmqxJqEFsmUwIX//+jMQofh1pwAAuccri88JHc5Al0+qvHJ7FAO5I/GvvukdTvt4gkzFELt82r2plgoNYvA30zmpHgOF4khPmK/KHBYnypFwqQQeOz6vtzh1f1WGXgAAAAwBUL/PU+bTwThqPzBhz3bVM29PVtnn8rEBCQ5Mhx0jAj3CdEvQJS+/SRyKjB7DxmWL7bJJBlZTCwrTQmHJtEdbFawTFRmvFp6TO/QAqYAjZRLtcpceAiAmcVG8ZSZCGkP4W/1hnCl7NgEjm9A76QffGekrgPu3xuVQgKD4AAABXQZ7KRRUsI/8N+suakQAmKsFTdsYkAvyqlG01fkxyG7go3ieY/kdYx5tt+YBwAHvndwbQjIpPlZbJD2wGV38kBstkJhSYCCJnhEhpcTtB83uwky9scAHHAAAAOwGe6XRH/xLpj2TTA44RluxkcwtJYjHM1r+ODwAAIyO62oxorGpKYIAIhHJwUwIF4cs641QtRGoZnAIuAAAASAGe62pH/xLo+Y0Fn4ACUZDneAUmTGku83WLpOpTHA9k4g4yXnucjUYAQ2bL5KyDg5yh61iL/WixqblwfzISbzSjcJcsCoBQQAAAALdBmvBJqEFsmUwIX//+jMamX733/ehxdlWSqslBUAD+TI+VSLLyc/8LzFBg0CVxRvw+8xN1GIEw5vI/QH94hn+thNGBHLMrZhlFl0lDLf3Ku9JJ7oWoFHYR7BR3Lflcetxp5O6thx03To9Kasu+FMECtpY7EbEOlZSZGfhGIPLvZ5NK3d++DROJLU7blsHHKD97Xri6TsakOEp8khPuooYOuT7kyw+dpT1LIujfd/nyUHhEM7uzgqcAAABiQZ8ORRUsI/8N8WOQBzC45WbiKaLcPRJl8ueAfzSiJpDo8j0OMtuwrshxfV/BCfF/bzoP/9KbvfWJ/uuxAE3m45sZmoI7Wqesjul0AAXAyeFpSYpcwz35Zsh4PxxtPY4wApMAAAAmAZ8tdEf/EyijlR/RinfxN5fWvJ74XJgAFQnhzi5O879LHTgAFVEAAAAzAZ8vakf/ExPO/K5YAAnaaLKVI541O3H9kdosxSoHet3qPLddmhX4ABUKlFCSHSj+gAKSAAAA7kGbMkmoQWyZTBRMM//+nhvcKUcFEpLBVwAJ1HhyJMgPAfeU6zoBgNHCCmJanlash1rfm2n92udt/neTm4ll37ThRjUj4zJDtqxK6uFFRGr80Cd5T0unPOYE1Ma+t+9kAAAGrHPDjoFJlEjKe0Dk70QmEc9puHw+MjXnIzhou4ForDOHYZsAGSdmZnNb0QffdrUqu2XOpZOMuMjHJv+S1gLAyDgoqVDXur07RPE4ncBz0FaWRApntANO+NYdYHTYjFy9Am9gqfSHopaEcDwUcLvdqnwH52cfdS9xMCiPmdRkgprmWloTAkBWkkSsPSAAAABVAZ9Rakf/EU4f7gqMVRxlTFpCNYjLM0/YIAPb4uHdpD5DCli3Oh+bq72qiYkA5vGSUtqAvqrYg6Uh6DWV34gagAyiuF6OhrSpmNFDcPPARhoGxMVKwQAAAOVBm1ZJ4QpSZTAhn/6eHOAek73gX4wArmFHYdodW2hzF5gA8PjnQyUyT2hnSoBVJk5cQkKcK0zZT5rawhtOCtkEC/oltCqjuf0xBjYpnaoifU0lwAAADCIMXMvBC3F9pEDlQUvH7dV7bQcdHB1xyaYA1yXMAI9G/Triw9OSXSrHbifvIPe7apottK7RKzEz8a24wGyH6pS7tfdxVP8LjNiLcbh9BA4uoffIVAkOAlER77VSgTDQCKSAiH3+V28tGLkirVqhamvbF93eUY8YYxSJ7lxE/8afV0e8ZGbZJo26YpPkdFWAAAAAd0GfdEU0TCP/DGSh27Xc8MKuh4bCvGGdQRw+c2AYsH+DpCiaPxSQsbHgmMnoBSWwIGViVIHcv+ysVQEZhHqmGqsqqByZGee7wbDsZUgpA+pZk4eyIDGwwcXSnPEWopH4Q0hMIl0VHte0iQJycSStETtl4AMQgEHAAAAAYAGfk3RH/xFcIqjLjeUZdS3KOgTblvLKyBazpC664AzTpt6mdPgBuu0kvbFcc3gfJR1Dr9ax+7126D1dj+D4xY97N7v3tz7C+WMyeGg3S3gIbsc9HHeFVIkCXilUZBAz4QAAAF4Bn5VqR/8RatcMLrAk1c+XIWs13BM0T5rWAHvhJUmkP4LTV3ACoC7JNACJiWn7Cij0nOALTsurVDo8R6ePtWObi8j03n7JI8GG9hzypOm3tklNoBwAwLjjse+SugLaAAABB0GbmkmoQWiZTAhn//6eHVCf0uzIzlhl0IQAslIZgA03DPgUTRfu8ZxnaYNacRdw5W/SkC5GXcEy+Lgm0jXf5UUj8mFzQAAiwd2L4E2EdaVivFy7QP9/4A7DefHcAPKs+ZZay+wFXVmbQPHXxYnaMZ2SdGNhmKhCifONOjRKaWN+C/f1ve7apukHos7hv6M5IuCYuiv90Ws1xBGH2iSeFYaAEoNICCfBu9qRYPGik4Bc3502POJGj2uTh1HRyFDiWdcdII1JijXh9izD1DRj1cmCGXClbpUhXkOPXprUIIVwqWBw7N9brb5f9zZsncoDcgdW+a1fRamU100qaBJCYlR0j9M8lgXdAAAAj0GfuEURLCP/DJUvtDr8NSfGrJ/uQRk62DOwAt4r2G9GmD9ORFygllW8+sHB9/bOUORjMznC4QkCDUMnUe3alnFGx7Z9tP7VhYkXewKWNXI58V0wuREhSNyVGUsctzYpH68xkTfn18O6ALOj+gHk7LI7C0iWF87bnM+qeVCR9rbxJORrfddGNeMvtLsPqDFhAAAAXQGf13RH/xGAAFC/bLd8ciQMQHvt2AATWXhFiYjKo8zR1coMenqQo4qpq0F279yWFR748mkl9ef2GThuABJv7Tt1G2ueppNl9pVm9+M4kbLTrkL9Ono8FPnoNlVFggAAAIUBn9lqR/8P/IhUJo9zBZ10TB1MSSuQACbmJSvCGulQy8LoFo8MYzAg0Xv7nKr0gKjMaD6SgyXHa+PnG0zJtOgbQoy7NAu8INdKfJVPyOcc9VnpFR8fDiVPGHjcg1volR1WEvdd4carEcxucKnGawdt0O7nWJD5WmmJ0E1aBKnVSxIsXQinAAAA4EGb3kmoQWyZTAhn//6eGFMnRa6TiD5imQAQi6qANHGKm/EIZwKaBgHCOylYBHtqKyzmcL0mnandDKPp/LW/ZLJGh2O0k/DrjJGlNU/A/GdBXfzpgzpLvuy42T7CN5CYoDhAiBjYfPg8iLJXIv+ccuSIvZtRv8HPXyzfml1n7TLuTBQWuZ4EOq43H/xiXWzDvp1C/s9bqRVsVEpQcMtJSrBfKhYBd4OxdArvxEiiLAg3Zi/x6qz+qJXfB4Pd8P9zCNAGRoUOVR4ke5PV0LN9eRwHJkJMVOYJZgrYzmkcaPbUAAAAoUGf/EUVLCP/C2wEaHnIAWgBR9ki1H5701V3uDEkDHBIxlFcwkmJ921BGYjaJLYp0Ckt2fo9PbbYZoNEQmN+uEShtwRZIz4Jz4HIL7eNq6XtnJ550r0XymZXjKkr2NbQLuVltnU4XS7cai9erZT2X/tpsZmLqo9N337EJ8qkgGoHC+MqmvVNJl0EiOLLC//cqHKq/DXLF0SciDp4Ds2bUobRAAAAagGeG3RH/xAav5bLOpqTywgBI56Rj67a+vzpAA///tgAGpPjdebEx+3BN1YZDDSudcmlXEJ4Yd2Elw03aIZ0RbYi+8+AIPx2H7ox88lertwYFJQBMJfXZeYcibRakEkrMOtOaqAC+rKYAu8AAABZAZ4dakf/D+BYpHW4FG5tGgEqyDb/HtGVRxvj7y6/UOdkDU/FAQcAbV73BseYo2yWDIsxQ8l39+2xpDVyE7DeNO5MiQVqAjszVAjAVvyUTkGCBMhdob0AQ8AAAAEeQZoCSahBbJlMCGf//p4ZNp/pubgu1JYBbIABOpk6989FDjH0nHusBwZCBqLH6BvlSdkhGk8WMUOtnaepZp7GRNu0V8TKCbAGxPzz6Z/PM7/eJ7dM2KP8RH7qtkrHhqwmZCiFT84ucvVlChvITv7X+9WlrPAe6LOufMrQkuE2kSG/IuhPbYu2nFaHPnd1C7T7eKKhyWh69mXI6mzeAQCfM2Iv+k+amaLbWQF+1vq4gdn95VaaBb6c8+sempThg5eoyJCX8oX8WH6LVo0my6QvrmsfnFN3rVWjkZMU+f1fvHF36Wvdz19wAg8a003PoYD9JtUYJJlB/tDafX4NL/n0WUd82KsALON6/aY/2wiJwxJQ/h5nbiYFv3azmWYFUAAAAJNBniBFFSwj/wt21xY2SSNwRKtn+MPn8SKBQcVotWK1/J9XnIy5s57ffpPGbasACTzSUbU1/h10IQ2JWElX4cC0dGaafES2AoNjY/i5u6kp/ENryvbXh4xzyJczZpZva8KNTdSHsevvTLEO/uexaQuRtSrGROzo5FGxUmjNcI0Tr3aARkMNDVtZo4DqZwF9iPam2UEAAAB2AZ5fdEf/D/1Eympx2KJ9nDHeAAbyKLzJldw9WLFOOCYW9SWyYQZpQ7CBbLdwvvMph22FtPxtIxVib1KHo+E5VrjkklVQOTIzz2UywywC076jCHFr7sYViF2UIzQTR9PDG4OeKspkRDNhISk4XglFi5IND0X3oAAAAJIBnkFqR/8OqkS1TF6AAlkNTxUjvuY1lB28torFMlLOOJ96ZYhuWRx+vXXTnOf5v1kpkrNUJnwDfwEvytfdf1DCZ4XDmL213eYMWjoMv6Lz7LsU2E8ipXqPzUQ/ExdulNrUShMw2d7gaCTTjvWfi/9tk22GIBgyKeth6YE5X/slhvN4ub6sPwLsNBQZn2aQE+VU9QAAAWFBmkZJqEFsmUwIX//+jMRXg7ACWhtKezQu8B2qh2n4IA9g4z/cA/z3AV82jgwVNIF3feSBDz8hrjVtkiraECQ19coMI0ecEWWDcIpAPF7zqBvj/yXlnr4hYhYQPOwAEWCX66xnmsr7dweuizj9MOhiDGld23i0EtYnGFrtpVer8ITQ44p2f622mzXKYQQonXPYyvFtBwgkeiNUsSbayFqJ3+6qyN4nFGJKP6bRwuC6UdUnRZ3O4e5W5HPeCOw+q9SWsdLMgSHKuNHmPgRBTMf4UuoB9P6pv3xm1Irefszfrlpdtkkr1h6DXisiWFJ4RNgdSfXtaHvQZ1el4QXTUHIekSqvuuKsQOAh9NpSERBb5XRq9libGv/lQ7ckAavCIFKoPoe2xfnBCw0rH1SSfoF79mr5rvFBcqxKRuHOnYif/xzqn5YSiGhqwZbdRKYQwDV5GysBpB0MG1PZg0Ui+cgLuAAAALtBnmRFFSwj/w4BN1/waAFSBNWbDL1KlIfZgI73efaxxs3n9O2iasUG6d/CjwbhjaktRvef/vhsnEnuOa/0z1Hd+NxxWVoHOrd23wBr64T3ONdZs323v+4hjsCjpWlkMqBvgYHPRtYx5jHyBVays8Yv15XRX6LG1dvxio/QZiTJlMSRxSkeh/OZFRLWJxNacvFfLQok4dkD9fmgy9sGepraSD3SpUNAFIMEh5TO33j70A5dTA9RIOemN4XhAAAAlwGeg3RH/xAki3gA4NCS9sVxzeB9hHUOv1TXxQY6FsWGVcmiBU0RQGE9SNn92/d/SNOWvIcBPY66AB78vDGOLWYEFHHcp9TtP0jbfy6vH6cCZG+cYdE7lgk+qeL1yDFAv58Ba/fcXNjgY+x0HbfW2U8BiE6n3a5aLklJfDUQvKYGANY5dCC/djsjuYrQQknFhkD3OwppzE0AAACYAZ6Fakf/Eyg+IBAAcC4bz0lIIIBIyO/Ngsts4tNf44+DitB183E9N/uPh5rvOANil+XgU++Ox7ptCnTWxr+G0c3wJYjpt3JkoCe3l+6xqmANfnSHVYeGZWK1+65SbG2CzOXmISHd3gFV7dXy6FSy50n344Q2XxCEk05sjfEYHDVf0cYe3d9YSAnPmj4hXEvS3fPCpkVLqFkAAADzQZqKSahBbJlMCF///ozGumG561Tq8PdC7Leq4gXlCtRzgh3eAkrBnYTQedswKtAH/SAGpuFj5roMcVY3QsVR0z06HxxHXGPf1z8vb7jxE/QEzM4F72DSayp6+3l7U//EEMZ81ZnfKBLr0t1VRYJ+sUSoPKc22IMM6Ugg5yfbyO4yiDCofnmMPl+4G9go9JxQw5nuV/ALkyQ4ebOHNqsMEMz15HEiNNFE5ClYKIHsg5JEGsu4btcjVyUvG//l+/fdaSeZ+rDUE0Mh28cvOUcbWZEIJatd1lhrGYxyJ8SiTqVwLh0MPRrgNYQq7kvta8tVZwGBAAAAvkGeqEUVLCP/D6/ZAAiR/4+FKPYsoifusk1k7dacVffoUYJuH1VRexQFIdLxbqy2HUJqc1UUXPk3Vhj/K1yLJHZxqDWwO8jcpWyUvAkHxHLeSrn8/f8pCCZx4h15rzlY4KVd2XuFacYyhJ4kx1tS/q4YSl7+yokuvUrSkS90ChOEj6a0aHTpS2k9z1p57zH/fp2kFJtWYD/o85lmpqCDjK1chQ8nL5PguQhsJAKccMyAZgPzavNyqBElZetyrYAAAACVAZ7HdEf/FzMxLPAHD68nzHx6l22QSNw2t9MYSsHmhC5iDGKj4/rcxcbCcTqwPlE4mYyUYZEYhICE4QAqOK+g05c41sLH63yVHhNsPYpn9eLdY0PAOSk5zugGt6NR/LcHga4I4BrvMdTTNdNijvNjgmS0O3d8IVSvlgU57mE7n/s0TveSRxGfyoAYwRMJWAS9k1dYrIAAAACeAZ7Jakf/Fw2WAP6ueWLAB2MUrpcZrysAELw7OXb7kUMT0AXoYMkrCKJqiy3nujtMFBBYGoa9m6Pn0bSJB8KSre8uxTSo7VuLeLuxyROLe20ScZ3VzMFYYi+UbEikwFZtsctHKnULp1+/0YOtYpH+TkVglcnJ1tRPu2K0yK3avDUbzBHe1KlTmn+l3VUZsRPqt7nVCAUNiygYj1aPFQUAAADJQZrMSahBbJlMFEwv//6MsAd2nddnU2AFvE5hb4fAhYubXncLzsYmic3thexPoMqV7pNHguwQJj6d4be7GCVgfvvBk5x9w3dUZveybMH8iC7KQ9GpLfJeGpHFm2JXDffgTKm9EWcyjwlf4WIoczrfBoYOc56/ShmgS738xoJDzKsgxkvf2XlqIXeqZ7078lTfpimJFo/PjQp6Td+pJPX8kyUeqlJCxdjvSp0YqjVNxKc1us8xTfLl+uyebZsUWa8KxcUbJ/R3IAyoAAAAegGe62pH/wNx42aLLVB9rj9jWpwEeiAHEfGPJfDmeTVr6m/1c3YdGuenpNmfyVml+LL3XNc7+4VSwqdstOYBnBzZVNJJwuHrUeG3DS4YGt5n6iuENZaz/+cL8XuRBW3jNGZElnRFgEo4JFlwzYa74xO/23wVE5MUHOGgAAAA7UGa8EnhClJlMCF//oywCL6b8FAAD4y6pGUT93dC5+0qcktJ8V61LQinwnXAX37W+ZgvdLT1qATKKvvY/qVI5WmvFXEP1rQZJY6v3mUaZkJVp94n9jiCF4ebnSPcgK3zvr4eJE45Qd2tqNYSDls3wFagpUXN+VzoruNTXbhnIB2/RWaOhUCoYxdQoY+gIYoo2m06/hugZ5SBohk8jlEAEyZwZcNnRONDzjo2KZ3QnLcV9sm7Lty7HSL0j9ln8ZpNzQr60ToTbNdlZ3Cz/pPovotmb6nQhpNpoqeFKUwvdU4xXsyNt1ZQIcgkGHcBxwAAAJ1Bnw5FNEwj/wJLyHk3gcAG3CKc0mGN+z5vmvnjMNeBX03TY096D1Ikgu77Odl95DieeYdwTux21aJQrfo2Qg9PqfwXNMl06lJ+Tlwz/cOZhe7yQQM7rVyc0DhFZOuFaenrFo1e6leQwWTVaC90Kr1rQvMFa1Pp8v/ndOPW47Xvvr/DXc06DM/LoDfQlGgoveS+JC9owBjiATYCevYtAAAAtAGfLXRH/xMzQvU1dKdyqgA2qfs6EHmPihjxNqwsGSUHd7c5JkTTK89ROVYhLDWD8GsrVd0qkFbPrcDxnLaD8Q+bvjAqXmw4lxC/YAMtWLDOn/biBAUalvttxlc9lsICWnwjidWV37EGJ95M+plouEFjBOreHOeI/D3gXzESmii241qSMacCpFkicA1Aa5ysYXmxT8WyAJqc+i9TAWVgZfFJ5gn+ZuI9D5L2LV/CBdLLpNh4sQAAAHgBny9qR/8QCNWT6LIt9QBDQBD47fM6k+/4Qzs/4K6BlmTH/I3dSbvamSl+NIh61TU/8sqAvq/vvKqETb3NB6EFTQVAhmTDAtCP688p2dYxoksxT8lKN5AlC+BdaUebjXotDnsULKyyQKGa1oEAyxMJiEEtBjZn31gAAADPQZszSahBaJlMCF///oywCKCwmXT0aBy6JaxjwOGEBYQEGNyeXY0i99ztLssEcV5onDJKIHXO4XPmuhT6MnEtZBBvQvdasfNUFwdHgfOsypmtIutyaU5KISIcT0twWLQtEkajqK3pt3UEhSIGXd9Yn7C84LXIwAOuddoQgPvBLjbE0G0AQSJoR22nMDd4H+4At4LzP+Jj8BnZblFA/oI9+H4ZGRuDOw2IOPbQu1EOiV2BuR2acMXVm50GYNiFEkdriXpEqRW2zsrgXIlCAAV8AAAAmEGfUUURLCP/Al2UwAWOzOxlRWutVtGAnffdoxFFjar01TYOyZtFuJy/chovAaeWjZ3aVkkokpNLjoCQkPZeoUhwhgh9UJBaEyVGMK7T9RWHN+rKrQHaLg04Z7x9dSHBnbQg8KGiQfkENp2SfOOr+nwfQ6VmFiyPQoo+C8BHTthZE0IhIYECI8v9AABEujiS+DCkjTCQw7khAAAAjAGfcmpH/wOxkpTs8eapFMRDBERxaOMLBXup/oRCJqK3RqmZ9KEvdMkh1OnsqOPPOipEFREAqIAbZ6/nYFtOyLTL5yF+9gOIds3+8siXLPgfKt1owW+yIwBY3QAGE4q+D3qggs9UlwY8pRH0K0NtTY+cUaI/JMkAEGl3xEtocm3DyfFRBa9Q/DUw7WPgAAAA10GbdkmoQWyZTAhn//6eEAcbCdHoGxhJVx29m3GCHyuB43S/5em7HsyF+aZ4VkwHZobbB7UBtKtsa73fFR+4/Asjpy4+wVyVJ96sgXL4w8WgASmAEwMbSdDvWuiDUeLOBJyjLrqLZmk703zGxxMZKp4VgrMbM379G6QtAK546+RgV+qU7anZpiCW86FCuVUQO51HxR1bUQmW+kdb0aQDosMD4wWFNRim1vUcY9RGhgKqZLedaha8y5VXFOPafeJ6Ok0BjAW9OZXO9s7S4whYiZaP8OJmqAj4AAAAl0GflEUVLCP/AjxU1w3eOwB7tufB2d5LEGX94wi8wzjXTTGkdlICgM3qXmQsdxeSUwISJ67gLXrTpuUR1YLMYWXigauhZw2ALgEMVdaaXFgAgUjco6+ImrODxtMfvW+/qT3gWC7tSXsN6WHxD67xre14YqpgS7dMCAwjnsGtY+9LdqwYpKdQLBTvPa4BTHf1lxHQgwjQG2kAAAB8AZ+1akf/A4cAG/AlPYJYAaPxdUS97mJ7xsdJ3Fm4ABNg2QD2rxV+hXltrE+BFpSvW27XhRh3nj/Ih3pvCpRbQGyI8D04pT3TMk9zxaN+e0tpYfiooo4W9rqXVqupE8eQp5SGkxQkrxpgZ7i/PxNwBGqlllEEQZjKLI7AEAAAAKJBm7pJqEFsmUwIZ//+nhACah9ezKYh0e6WHYe8uT594pfij9AvQIuYQkivbErPjQsLw8Ac7qHygwW+NS3+KvQnpvZ8bJU6StuwsC8NptE2tQ/0wWA2k21SU8VKbnh6W1F2ktCPzwH1ZUITEtpjPYoJvB3X5gI2HJHteAHxiqy6SkjNF6VaC/y+0ioNhNznk4klbX09Ih7YiUvbEWfTibeAd0EAAACnQZ/YRRUsI/8CPFQHwSDwYBvdcjFA0Zq7b9OERpyADy/nwjCBTx7HFl+VUNNJRfXAKTbXDLML1DZbz+a6UAdFpdLhBXa50BbR9lO2+8FBub9eDPeRLnS7xFNzh8MMKydsNYadK2McqUbmp1btDuCr0wz/C+57DShaMuN+jbNvtpmZ9jeM98bI5jsiSfHp6qu3LbpMK2YLZWpcEu/gXGsUPMUYFh64K9MAAACAAZ/3dEf/A4UU5WX8Z5LxK53xLYtn1NbIHgvb1AC3RxEwcxJZ3J1Mhog2Pz5F+j+9BCLuubgkbQ/GmybJxyp+91lD3cYhKFH4uYs8S4NsuvKjRfb/3OehHsW3JtskkeJvS+sH2xwDP4OTtoMAyERBZ6nASn73VPAOcgPuJu08hYAAAACTAZ/5akf/A4cAG+/wBYAuw/3+FurZpMkGYD5NGZxgxvIJvBW55Zjc0b3VwAWZox95OEHI4+T1s2sGUGL+bUDIO1XMcyW2ZQ5cpR+FVI8O3zC54H+xuc+73clCzinW74bLgdcbctkKDoWQpvmSoOGV3S+sbxhpyzj2FI7nm20wo0YEtXnEVYowEJC5dZLgCiZx/cL3AAAA9EGb/kmoQWyZTAhn//6eEAKdjccAIU9b6bkYwCaVxEGDgOShBlHGXewnjpm4vcMu5tekhNRuPEiKs/3fat2tkIKN2+9QIRQoWR6ps0ExfqGwaZXTOGEbsMqWVxWfrjPDZwTnULr7PSHTD6Ze36ZS3ZjGrWYzjtJeL9bZwjfJwFf7ICnW7uIdHIW2s6JkA+yr/rZW1UWxvsMhq9VbJHZdNsyZxRkwLyfVcoeraKpm7MsqPe2PG5JiaDdMSSJ3AefbR9aBQI1jcyh2odz6WURo1eVFGt9GAH9a9OYLvlr2nl0olvsVDT9uvMynwX1v3qcYiI6ABtwAAACsQZ4cRRUsI/8CPFPuM3GZKACWp/VgCRXQjrGA4nTkU5xaWjTTtF6CoPC5k7RhrY4k3GaHgIGk3coV23nSjN9XRf6GMgCEZGyy/YTwiq7iZgLp4I0qqZ08/KcPrbldKoTbolWvqW+sLznDuGiQzcvhwSJP9QTyRfJ4RwZr+8/Wd+BimadTCjuTnWI29t6wfigRS953RMzaSTe2Z3zvNQ8DMJ1h3M6JOEArRi+XTQAAAHwBnjt0R/8DhRTkdKh0bAABbKO6+jGTBLHyes+XD9FH6ab/5NDB+lkhnbQvoNsm839+/N0qGt/88rf2UI2t768CrgGsEIdUJMiuvo7W0xXOy4jMRKRu5l2unDAErDeFJR6PnpNsjE3Rfuq9QGK22KFGdIc3saiQjBwtqdBtAAAAkgGePWpH/wOG/6qV2AADi5w3bFAn7G/dJuOKfEVfHivNGCaj0oClkeNpZBLIRzg32Fgb6QmrJNYuqGCdB9GG1vyyivDN+NkMKFHfzlMJ5T4TzURpewExKJHzwePgpZrTbZVEZIOp1dtfEUgZ+b1EzC5xthedhASpe/lT9FjpMOmOHznvaqimKa3apnDzsvdmDx6AAAAA10GaIkmoQWyZTAhn//6eEAKh7v1g4RWOD3S91G8uMm050fkXPXrI7Z1CLZczcXxcwG9OJJiMI0mCgI1CQVTn31/8wE84fEe6IVq2ITTgsjWiQ3rcZdvN/CunWMkhG1euX4JTGCnqkg90xdo1w6XmWCYrk+2IRVHtdwImrA5VKbzKdtzYQGe9vEFXiY1WfyKE3FAPSzof8UpVf30O/r1rgnj923xlmJFNby66UqhC9szW2zAWx0syGXEu0gO3KobeVetMKPBKZ25dEHwNiP7HJOk3DAws2AGLAAAAt0GeQEUVLCP/AjxUCnHvQBVOjuZoakBTuPHabAW0HcVrd/A7bxlipvXZaNMn2gcKhKQDgkC5Bi9KJzB6Ol3kTIo3UueMIKe6PiD7yUFH7mRHTWnegpSTINfPkZAuCmnpXksxNyiiWo9DnoQTqt/n2yVvzQhOplCc4QV02mZSce0a2X46vgWoAOGY1Ih0PSHUebmFMEvYFx79SKLjg54+uff9QZ4aJMypB66gLDHafuuB/gCax/Dh0QAAAKkBnn90R/8DhRT7yEzGrgBfWR5cclNB/3lU2I7nhmLZsYkaPTku5bV30wEcepcPOLqegSMsuOM+Nxy7e7+IOduxwLnyntlb1Y62hN415NGbHf3m9a07EHk8mSOqCzc1kPWxog/7dh5wYV/1hG1DxOz8PY32FzaKysY9WXGzkKGNxIg6ElZ5Tu977y6fHibzu/6v0lmvMIc9ZwHNFr3vgF4I8/qgbAzrk4EgAAAAhQGeYWpH/wOHAC4aCjJsXRAXdEfB0AkbSiGRffZZkSFsk+RoRstPgAFxVQWUa/9AeBd9oUBVw3WIb71QXf5Yr4mXbDNttp0HRoUT+TyXLMvjzueNtQQd0lPv5GJlAtXFcNjQGsb+YdtaEIbeZpYGtxraNCSXYsNjEWQEXGqft8HBbl5xhvEAAADBQZpmSahBbJlMCGf//p4QAOH6BE7KeF+13AURjuZdSdz4hiwQgATryxoED6ZFMtcl+yx+ZYAaLH+LQ3UvHRtYOqdwGT0SmNbc9p6Ulqs+z9AVYpkbLvzc8L5bIsyXwCoRC27wqx5woOIAnZ1VFnp9fYqtF4fDm4QB0Q4KldsnfBnQRvoGwPjBYTk/qNnsqsPRhR35OvXsb1BoO3Y3nUHPcWL/sptgNzs9byELSLAMPLYpGcfEGg+2j4PZHmYWLAAHdAAAAKVBnoRFFSwj/wI8U/oZJN2Iy1fkPTKwK/J9izLKySYLrqDoPTZwSOeADYt4BUXi9Z1E683gqRqFS/IAMwGg4z8g27VO2d+imim/Uy40dAo2LoFCSNN+lXfMGYaGZDQmuAcR78T8yy4TRETSpsP4lXAu+85aRbgfn1NTIbFiD6cvSESyXsSyn6pyVWRNT0OiMIpzdtD6YdAecFL2DeNtRnsAVltx4rkAAAB1AZ6jdEf/A4UUpF46bkHBAleKdo44q408N/6G+nhVnB+OdN7YReQAlQcM+iW8XbOkRZ6xY1b02ar+AWQYVlyFfH8p8LrqtStVoHPFzzConF/ICDukgnNBDzBe8whxr/2z6UCDHe4DGoP+EnHOVwAFFAwiPu7hAAAAkAGepWpH/wOG/+XeeF80GqNcHeRvPX7mAFch6qtakMqv3emDPzoAFdaCnAabEOp32FKDEX/6lji0ppJXUJmUEMyfQm0LhpSltQJl0PD3rij4cyUAcXKCSXNp4H8tlwMlSiuEI5HxPoGgbfAp/kLmhjMwLR+/Y5u8bT4j0krdPcKGsLsCUZvbLdz8sDODwOghSQAAAP5BmqpJqEFsmUwIZ//+nhAA43CdIs3m85qPENfSHA8+HBNz2sGD5QJ22m6/4EhkaN0HIownR6FdJNjjNNCl/kjIuRuiR8+e/fUxreipk4LTqald+jRMkljWKeg0vUjko5GVE0CH3m4IrZgYjntL0UjKjrLpf+kmHcP3WXoCXTcsB96bumzJwIsPIk1iEfloEpoTuy0C7DyqCVSS0vt0GkwcPIS2czgxMJmVlbcESx8jQQ2pv3KDJVZikuhM+YkLHd+ntjiD4fSI9fXxfEwDD+G6WOe/+WgsSqsmSyN7xr/e9Ay4N1tkyzaXYbirP/PY4McO6y3zQDOuG2uBpgAXcQAAAI1BnshFFSwj/wI8U/o5m3aywwajjzW2qKz87zZXO7SIg2BGq53e+kIeHUQXtzCkVvYi3hg1hUHVmLDeQYAWmNVYBRIV1jsqypOQqMXWNkiKweV0UrU8a+bgEARgJKFokAw2q7Q8S/uTvKbsPu5DY+/RxCzF+yUEMzx6ZRHr20EDnc6hGF41vDvAKzA0v9wAAACfAZ7ndEf/A4UUpF48a+m8Ip7mLBXq15PqwQAE37yp/a8EMeohdL54nyevmswVc9nx2makozG3edC/HxQeUylfstT6Iv4P3cuEKCN/dNaujJDuz6oPy6vpTKID316klmzH+gsVAlVchhuXXrNFWlLj7q//5xnUsC0zeCr3DsHhQFbpCSalDdQ4qONP/rR+89KeMh2w0rQn43uYCNor+y5+AAAAlwGe6WpH/wOG/+XecYXuOkJRXXaGMZSL3FuBEAQo6tKTlkz43t7wBBXlrAQ8QGsyj3KVt5A1xauhI4QHfuGmxrdpM16WoK25W/RWGYNfyHwUyEKnyRE+qfA6vN6/kjLfsUy2KDVpO7UvPq16zH4frOjlwqrY9VvYBGtKTxSfjIOMLmEPdB4VcRIge+fdJ0T9q/cbxF9QI5UAAACwQZruSahBbJlMCGf//p4QAFPrfP9ee62gBes8ZOYRYmMgkY85lZfoVmiUJzBjN7ZNEb3nYgrLQW7ysX2fCL0cKSuVsCCwe7t6AOgb8RdwCpHhsnmV7bSNugFnWn0f2wxU7+//eKRKY3ELU0BahzCoMQCT50ZtJHSGedfD35r2yTVIlNAGcDkxQYksMTXYjMwkJIy14jObaN4tPb3dmQCzXg3uUXW2GygXEWMvHwCpgjYAAACnQZ8MRRUsI/8CPFP6OZR9SYX2wVQYOT5+HxQCAAboDkHyo7Xlq9PrkvnFaSGEAJEWQhBgQLDlaRa3C6o9TLe1pvgi1HeUcjar72xvYB6Bp6n4+z3W4FHs1dhw3kbOabo4M7k7BR2L89YrAuaWoabeEZ/8cnOJ9OspE8i6jsqiDc6MYLMqVQul56SFWjLUVjQ9+2GC0oy+4YA6sCh0Vs6N19gA/lH6JpAAAACfAZ8rdEf/A4UUpF3LxyjHPfmPy+5gCU+7AM5+ZzY8MxJhYQAFiQpTP9rISb0ekrYIGfSyI8RYyo6FjT3wXzALOgg83WdaX47CjiisftMFP/p78gOLqVvXHQ3h+b0od2p4yLhDnVO8pZhuvtM6Cd2UH5hmECE1pYvQFrMgKeITSilDQKfgBGrm6Pvy+Fa7/mq3q65EEx2APgIAIuR0CtIrAAAAkAGfLWpH/wOG/+XeJVyiJX9u0zimEDP4tG/IRFmWQdrxT99XkALC5z6zJBq5V9b0eP0KsOc5FvRbSmOz86N+hBNSZa0lRMHmFCNln9wVDduM6cL+4kFpMAFkBglp8JqzVacoeJRm/GNyPoX9ix0+BjhRhNRBaNvMIM1NdUj+Itexv1Ey8zoURjpAPzr+pTBOrwAAAOpBmzJJqEFsmUwIZ//+nhAAU/vHgdwQzVkQALDq1jAFrfbB5cnQy1IeQ9+FCca/yD/46T9nL7JWGuZ5lfTGeLAguD15HKQqkKy6A2fUEjxjujGLUfwUw6g+EPQOM2vhoYIHLcOEDnsJhvaafEmmJkkWTjLjIxyb/mwQnEoh0bSC9kwHsoheVL3pUMnr4/gAHG4XVnyC+T7EeaMqOskpaQxJuwk+KaLKXaiMQjS1UD/e6Qu0DF1hsSklf1Jj5bE46VKelzElnYfNUlqmX46Ol6p772aiJFy462L/3l3II/5u2gy6iVjcmK5FkLEAAAB1QZ9QRRUsI/8CPFP6OZR8qkzrIj8KrHxXw2oVrA0AALrcGOzk0BeJGw2UxrE5G1uY4BLtnZ9/yzZls7WhZq4taElNRop93TfV743DV8ajXMfNxVqp+4fiQOnqCyljxCidLq+5mqPPNn5a7piznV9ACTF6TERwAAAAcAGfb3RH/wOFFKRdy9DAcBcpRGbu0D4bXhHgpiXWw5fZOhPPxPRFpzb2NSYGPz0yTCAHMEP+9Aa5OGLVCJwQyPaLLSaqyyfKOPnVGW2DTrBXAhjzugcKL8ErR8OPY+fLoTsVttq4wY3lSgk+ppqctMAAAACIAZ9xakf/A4b/5d4lVmEhwFFTdY8iA/Us1YvsF8sLP6I5z3Qh/OE0xYRNAB61n0wZJjjKUvzRORt4fk5WH958Uvgtp3V/swfUEONs7M0xOPjDMWMcYCRpIRqVk0/1ojlZa1UDTocFk5kyVrNQ2syWpMQ2JBPrBOFAUCvprZ8zhV9+AoBSv5JPQQAAAOpBm3ZJqEFsmUwIX//+jLAAVT8zj8ZBhu8BrRoW/fnIBmjIN5KTVx1K5W9uJMct+7U8FYFYWHNsTPTMi9ndZylHJQYRa0OHGoGorh10Ld2zKBrf1gZKjdEVg39qsR4ooBmcYH1QsDgRPBpzQJLPJYZ/S2Y7KziCb7kk11kzFotMaCqNViZDFG5NOgi1PP+qWRgdpqwQfI4CpdqSQlZ5+axOetZyuFGOsZtsl3y0CX66DE5UyP3WvvKGOukqBYML+NH6A94x3Vkvll6trURiBA8dTquni47wBkBhHCvrvXfqE/M81uqNJi4ADjgAAAC/QZ+URRUsI/8CPFP6OZSHKGKB+LVtfOmjpKX3Rrw5v87oAPHGYAJdKehSfiK4+v3TbDpt29R/psEDOvMcrl3SrKSARieDFyY8cd2kyt7POp1uUsJ7hYWGFCPUrgS9P4oXKvtpXV3athHws+FocDfNcwJ+34M32s894P1eFa6ZzYfi3HzXN/90Xw0k8jxYeldCBR3WrLdnECsilAheBaEHBiX8ekF6jGYJTup/kY6CS3BkceK8p6mThTPGo8S+VNIAAACWAZ+zdEf/A4UUpF3Lxtl+TMevFlayD/T1fS5zdIzmhqQxACaJVsRe14BlNPVpK1P2dCDzHxQx4m1Xq1/lB5GQUY9fK1XFvj3FNzY7/wboY+MvrVA1QG9DiPLuEQkz7tZBNEVwkX9soW+LD3xkZq48wqvbAqC1jhhR0yKY4CIONNd9B0uoOviilR5CLZEagqwLRK1juu2hAAAAyAGftWpH/wOG/+XeJe2isgtav2YX0XN/AANFb2xQgHIu4y6pkX+rvvpuYsJNX0TRkPm2De5U+rZNWzp4VCcjATQ+TFQLTs3rDjwgxizQIgw+lhnyrbRmFMzTiOjp3xObAUk3M53Ka5ATeAgKU9Whb8DlZXW9yQlG2TXDnD5F3TkGLLkVsQ9qa/UA5ssFtU8QYS0QZr2LDedOdcilDsmBwZOI3HlfRYZIfv7mrHy8kf7XuU/OFc3jG9HqoEZLjFErWG54FfGJn16mAAAAt0GbuUmoQWyZTAhn//6eEABY/d/Y7DxzxfsQuGwAnF0TD8eOMV8vuf0tItl5+wiWPeJCg/zB6hTxIfx2M9d4qIRiN6jxNHCq5fhR6ulnaMxNtmd2HxPbXybH4rn1lE/1EoT4/aRYoYibnGOdAcNIjAvNGErHe6VQZ1wD58pRm/ML1onglN1IUOg1An5FSIEcWtfZKotaObqMMwYT+Ce8gRGnjum8pSGeCJ2e51Iguctxe0pZ3oAYsQAAAKVBn9dFFSwj/wI8U/o5lIbPeu9CwuHNAsetSywBEgSTR4m5QPyFIZ+i+n9qpYVevBYvXRPjVtqMkqT1pSCqUk0erLnWzvujUYhkSfq/IHD/QcBF6QuNBqP0kC/uj3UxyMYly2ljf9K2oHZHp2P+YeB/HTHibO4Qk0rgVn2MS6TbBIhaSvIq4Idpd5abLxy97LvElnlX6WPyWskPs1s7a/l8ujvM8qEAAACLAZ/4akf/A4b/5d4lD5QP2Hn+B4AWHCHu2gjGIjQkcBWT/hFob2f++RDdpw8Bq/cV1YaqzcdySaJfI60Gli0xq7w4lwYQntR5c1ZR930I/1Zu5ufeJOJU5eC7vX60dVb1LHcde+Fj6TdE9KCXc6lEoHMDCT7TMvhb2r0PNqX6e5bVCCtadOOUNROWCAAAAOZBm/1JqEFsmUwIZ//+nhAAI98WOsP8kAHWjNMBy/xl32S4u5arOtJRPlDMLtpqCkuso/QFpHDV1nw7jDSRE2ouLrJ6GsneNWoPghgiyFMxRMvN4T9HK5oidAEX24dm+5Dr+ZQPRq65OvlHB/79fuG1I1HVBGcQk1PbbNyFOpou5ooeBfP8K/mNfkiGoaqp5235Nt3dNiyAFGKnCFvx4Ufpql+Ke2Au2mza3TwGubNkfpqgEwcQQ051X0eCqonGpD1zv/V6IR6Dm5+zVt3GF/StJYjIZP9ihmWds2mdAP5Uoy6QTGwDlwAAAJtBnhtFFSwj/wI8U/o5lG5zJFWg7JxX6LcIqSpw8sM61zZp/TtMZ4Zt3o+TTRsAJpkRTsdeB7XL1ZujEHw63qosrWCHuXYW+TYJFu7qldTQKKtgisbUC0Y8J48EM6gcpR1q9cnjdBFhJltUTwXCDIfvHPcOgS6VlnNCwstrA0b3hIahOpc+o5mdH6GKjOkhZj3o4Jb+eo4hF4qAzgAAAJQBnjp0R/8DhRSkXcre3g8yNOyhmz2a7EPyfy0yhVJinEUUABLQwSpkjoLU29OzPXylvq0IO8u+vV5P1/pNEHdCe26hiO7HQR2q9Xm5/dhfnhZNefAAcIzaYyFXtQOcejmG6TQybH+f8Y0NNe0xbBZOyFcSZDBmwK/QHUmCr8lGqtnuaq8CCEnJHHh7KTwBzH7au0ohAAAAuQGePGpH/wOG/+XeJIbfTqNTUAG1Tv01Z6+2g5LClq1n6YGDw+dgaN3GYED4VCJlKKVTW4hg1cWK7dwGSMYhFJSjz3dLeGSHg5j7+rCTsWRsZQwG0LiWGeJ+HlZpAZnF9O/K8HM9StYN+V1znfOwvxQW7J2efkd4O2G7KM6VNkaDid4yJHcBjvGqpos/cVu2UP51B9yX6P8IDDUdQL6K/1dLSvGoF+tXYxogAeyjShYtlxzhUfRQk5thAAAA2EGaIUmoQWyZTAhn//6eEAAipIeAAnbnjR5Sz0boMKmGDUnl+bQAL1JxM7PIqn7TNNvBwka7mTZDWyVrH/nePVNT8JroGALzkEQJe3lcPqQ3efI7RXs13ccTF2fIGxRD1geP0QU4HuNEAyvaLDdLSFXPqS/zd1ApF/+amETEZOHbJAU7VyUJ36V6vk0RnV6cOjTl4zY6zILTq9P+fceATh6izqTbMs0JSRWynmjPQkFI0Va65MoGNHJv0NfdoecIXxXYpUo/8lG71TE7otBftYu4mHAlaAB3QAAAAORBnl9FFSwj/wI8U/o5lG5zImUnamgAICaar70a59Xnd5AXL7qggG4r+9C8nr9GGZUcGuI4MFWa8h987AqYf0kR32kbRjExl4xuCoCnMZT9VoGycWdJ+oEh3YDDKKPJoWD1cPh/fOKsuBbh2FrjSjqViXlHEywhgGe6cgvlH8qZW7Qu/QM/Hgx8g8GGNKfLWEjmF7pvLwhtFbclLCvEuhTkeZ8kNGbgJgtezlGp4FPDglXsaVxV3ugg7vCZQ0NfqWk0yMYhZCC4lFL3S8jWdtaeCA9+b7zq7cD10/Qf050Ihv7wVGAAAACpAZ5+dEf/A4UUpF3K3tzpHKRYYAQ5lPDfPsliQx99dUL7tgFXHyrAsIzx3DJ8QMpV67VwYAcnkyFAaYatD0zSA/9AT4Fsb6rmJ7PZW1Na29sUIByLuMuqZF/q776bmKfVfbNYTPVrZBoCwnCuOS58jZCFrN5o9HtQMNqYz8daX164YpS9FmsdH0CTxausScTPYmj2x3KAjFse/DDGqkvFlZFygbL/Qcm8bQAAALcBnmBqR/8Dhv/l3iSG4GoB3wAR7chjdhj8DfnX1FM+DRgLvDwW7P9MaFq3N44SSXRz4bifOlDcRLgb/2vJoNX0uoZ6glRCp01LfyrAvlKGGpvJHhuiopQchJDvOGdZwx0OzTzU5nFHkPRCMCtezC0wbDYo7R7MyxFlibQMLEepx1TiLRQoNcsVv50SKG0gaNgGII98DSSVIrvFTbgWeJnqIpCfQ9WvyWTMTE4xFD5towPGqyC5R0AAAAEBQZplSahBbJlMCGf//p4QACLfFjkH/swUTVio+wHACE3YVrtZvBb2gbXjgWGf0tqGcV8CzuIl0Abd+BRgDZRhGbZX2K/reYldi0LL+28eBEEXkb98gIs7B+JPXqRJDWKwbckVND3sKppuAmLkysqvb1Y1OpWQolOsVrmTOwa9bojTkcHBV79UNDEB5c5u4+nPdAm3gLG9Mz6MqUnMDW0ZIp/+4EWn3Xn15+PpEzkhYKeLXgyfsOu0pwI2YG2WYtA7MBemaxxPlcLVSPxtRfpcjDjemr06cbxle0oDHCi0cLRs27Z7AjDgYSaVwgSJia/97TDrUM05obfxk36ctn6eAW0AAACmQZ6DRRUsI/8CPFP6OZRucyIupyjXuikAEZGuv+UZVP48/5+ZjXNsVeQIKUdpfJ9WuVRySkpo1T/9HlfTEfIjLvkp8eg/nju7G3G6LDujXfTionKLO35FGXd/Sccq2BrlBS3RENDfTfJ+DrEDpoKfJN4VQMmxvjzkVqGqAzydOiXwgQgnSDGnX/CyNf4fhTf4Ojn9WS9SWNBVJExMhtjyZiKPjB8ByQAAAKYBnqJ0R/8DhRSkXcre3W8x57GRGzABYe0k//PMsMhS4vMxX2FEwfrZNFCsMDvv7EsV4lYXYtJZbfTgDNIjJEXZSr7heIzVomgBbwgUKz66iAtiGvXVTl89j/Ye2FYv8an5wzdXrj8Kh87dYCeInF7sUdg50VosdDkvaaZh3gmNTW++RaSAn60Zn9UoVwMaw5+Z4B63NjZhGEQlSmouD9m78G39y9pBAAAAjQGepGpH/wOG/+XeJIbeP4V77d1zABX3xjJrBSI+UsJ6YO0jLT/WvLuryaOVljtR5uVNqmtoFtTHcbnTaZ7WG2fC9+3hwFaXraht/yW5E8CkNAUKszwdU6QNAuONFUiimzpfk0FEab4sffpkzAOxkvYoFPEhEBSptyKes9BWQWkg5lprzIpiwNaArqJHoQAAAM9BmqlJqEFsmUwIZ//+nhAAGT9jwr88DwAZdZmfti5KyJTchj0ttMVfvA5t1Ok4cdbZ70r1wrInqo9Uby6AfDv6SR7NBlFwKyEhyxTLWQwzCyh1jM3JfrPhfTzEL2xJ9PYr2Gi7YeR/rYo8VPxn1mmc60vkTNkZxUNYg1d4hbQZbks15BGHj+TPCCVkszgjfCGUZYjqCzsfUX7PKhNjNwled95Q7xfni2yKZL62hWk13Ancb1N+pV02TC8CkGUft98sotltwUxnkLYKfDIEN6EAAAC5QZ7HRRUsI/8CPFP6OZRucxDWYkZ0ItkXE/QzPgGrsx0wiXC+MgFl9hjEjNCbLNV4F4QAtaVQj1CsEoV8Wy6o7Ai1+5u1je/zANNic+aMjFvTdP2y+hjFdljoijAwKGX7awBlcsHQDiPI/HmB56/NSNOadUvIpDWL3nfzLIkfuGCLGaQc6XyX9cV/PVyiK35ZV2RJlXpcJEahOYWs00RYhOPQEgbQ05RmBhgwPJX6ptfeepQyj8DrXDEAAACxAZ7mdEf/A4UUpF3K3tg99aQABeVCEsjlFCBDgNTlfqHPuOBbXb5IDR9nbnuQHShhL7mv0DPR6DZ4o/8rnw2aIjNk3OoFg7PqFg4nVbyHqItRNhUHfguGhHIrGOjfo5XCeGj+W6MeO6s0CbeA66HoyE58QlxDmnP2cwYrX7fqixBJcixPxG6QgKnN+0H8Zn6oP9KYJQ3zIluuOCmQMZQ6CNlCnuo9l8M9TPPcDq+iMGo6AAAAqgGe6GpH/wOG/+XeJIbamzt19QAqPb7lj3nvu5FQOglo15ZKDncNJWfpysSCsJ73SH2RiGastaC/dETnRAZZdPF7N6K9JpTD7Ov2Ps/TL4al7LKi8Tonfb5sZ7h2BUFrfTaLrxpswBFzkq6cRt/DfpPoQg2WmhqNbG+iABRPuKB+oGg3x8V/8ueUEORoBCxUe4GxyGzXIRZOotUnmXajnir3uY37Xh2xOVaAAAAA0UGa7UmoQWyZTAhn//6eEAAL/7Hm6w2dOBEZ0mFBhRxGlSaAD48Tb2SuaT4hc/hoyA4tQ/ALJxxxsaMgUXsPeKYolCmQKq06K1/c/LWw1OeGCDpfjiWPK00Q3t/e+t6IE51JBtwh2iaNrwHsr81TO64hGiA3ZWZ+yfiByj4Kcw8h5oAvS5CP+FGyV56wzrC9fzA8wte69bnJeQ2UiNeizM/UsNWl1jRby5/nbvvbWgjdaGJTesOEgzpAUA+4zNkraoOEUBPn3KD7cRRLaWuy9A0JAAAAyEGfC0UVLCP/AjxT+jmUbnMDPmpY2AC/CpP4p8K7tCeTU3HaSOpWS19vqpgpXMRIl7iHKEFSNE8TqoAppcTHw3om+jhK4UCOTLCrnGOa06jTnLtPfpEgVYv6r5uzIveczW1Y8Ci24XeewOqUlEC/8wUgUdhgE+8nKlt0LSvZve6piD6MKzRNZ+jCTPJTZIUPByv1lpH5yP8QuLJkUD2PJrlOOy7j0mrX81rC4h1Xr/zenqRj/4VbljiFYNA//LbuNpJwoLr0gTWAAAAAqAGfKnRH/wOFFKRdyt7T4+FAAdIuv52BbToXOuTQKq4Z74IzYw/8aeazJe8Hup5HFAuzLGUdFbaUMOMqcwLuhBeMJRRcYuOWzMXE9D2EzMYMv04FrmjaWJg1QNGk4VNuU6qz+ZkzVyAQvQ6xrvXgBQEeB+LK84dTFYAL6rkkmUp8G/D8Ft3DeSzfag5Hd9bINWHEn3sBVLl1UBBBcAxX0RRtCmrfuYXGLAAAAK0BnyxqR/8Dhv/l3iSG2s7S5LZpI1I49D+FNVpF2aCAFSBhCr2VhoagDi5tkl+Bz3+x3O7izYIf4pb5q4gmrjIACbqTAbJvsIubJlb+ZYK+bEx+3BN1YZDDSuaqR12FU3QypRInWlVl72kPL/bmBM9+8KgOER7naIsi8v1Yopzbig3KIK2ctnvmxHtBR5dqCAHjXRgguJ7iwvp/FAlhva2DCdk8x53WRfjaufybgQAAAPlBmzFJqEFsmUwIZ//+nhAACx/0fpJhLkw1V8Rq8CuyT4PlV1bzq/s2gF2TL9QROM1wrrXLYwCXXxkEHpOHgJfzJJ/saAOXdE6WETBldRzOIoFkhjrMOGm+Z8c63EgA8V4z9Vs/sZ8b44w65wlUQM/VFygxbNnRffqfXnFDdk01Zj253FsdnLuJlncj0ZW2XBlSOfFkYZv7QVZjoOMWknajjCZjarol9hBiUEM6lnYWovncK51mFqS6YwmVZJyktljvsDX3U7Q6UGwvaTHTZtbkn8HN8e6JfX9Li2d2nYkJMeQI1h/rp9LJBz86Dut+OtxLed9hgonJS7kAAAC3QZ9PRRUsI/8CPFP6OZRucwNDZfUNXafaS1zyIwCxdHYVtVPyuHN2VF9UzdcNAggMcW0T7n71wASxQMpPyu3yGAGGRpeDaEGcjnHTS4f36ma3aYpjmCnnoAB2pIPyexMxSlx/0bFjbKmwFyX1PExi8iJ4r+/3h5qoeYgiKLlHM4+zzAjoM1RdRiYsB7Dpm/Dj3bHaBk4h9l3RHuwCJ/jOyrYN8MakWYzEAoSSXDvy+NY0wUcWgU0BAAAAkQGfbnRH/wOFFKRdyt7UHyprm7sXQbZDZUBG1uvFtCBrCcApZTxXcmkgldQFosUo8SO5ykdQAAWrX/9NQ2RH6cYaQpraGDuO22fWVRMmWTsXyaogS598NWSomO2TZosfdaCJYQHChvJQ4ytDGZwb8/d4skFwL6LeRvLGv4bRzfAxEsOozlCorFTpTUCV9T4JypQAAACSAZ9wakf/A4b/5d4khtrOy+DrZFytc18QxbAABa3QVxJJuAaCYOLGSOpJqsGBqm83MxQyNkUNF9UEkM9kHizLqxEmNrwuGr5uZN480bva+9Flq6RhDJvS2lWC/B9dBmwavOVu3gE//qXVwTGyw13n/1YNJVqXSHr1vN0peKWt8WBKY8+7p0E9DIo4kTIFj6wr5w8AAADGQZt1SahBbJlMCGf//p4QAArXMukp/S52AFvAOeDmLUVZgsbmEQCpagkVnaDsUc9bZxKdBDXFUdWXqmTF5SKV80sKI/ocuVusq1Vuf6uKRrwQWP9/tUCvklMtTasJuDMebIdhUXVKehMQYNy/qJD6HMLhd1Kw12tY45xoigncetHipqMAh1DJldYDnnspmBA59F5MYFg7LGhLxj2cCHkrpsT1u3k7K3vBFq/zomket3gXTXsqEGXButsmWbS7Es0M4kOEAFlBAAAArkGfk0UVLCP/AjxT+jmUbnMDQ2B91Vu38fcwBFHjaQRD22ChF5TFcg3xWeDxtlhKLG+Ot/Oe2TpM35pxizcZ3CQ8vBAfvHDSxnbxSr0HanBBgw8rAbGgZARp6l9COMfLxoieQLjJAWgQMEtWoj6hRLjPAeQjQPIQUa8bGEv5UyxwWWV5kwtGXFi7ShUhaMNiSEtTwSvJsdT0qh3OVkpXCFbiNOTS7lWG5iRDLkO8wAAAAIcBn7J0R/8DhRSkXcre1B8KRVcpAABvk//TUR9RHylEWQIEi2xHb3zuWyUpbYZpnek/lUNjGEDo5t+Uf99rFJWW8N9UJpFmUqO8ZHK/uejGnlo0zgJRb8XN9q4G1jAYsTl6oo00RPIzdHrC8xKxk372W1lNUcCoDiDRXDcGRDNNrgHYnhh+eOAAAAChAZ+0akf/A4b/5d4khtrOyWUxB2NUALDR3VvXP5tEMbu0dgcg2H8U9Muv7jicVuVHwZj3ltufRRHReoiasW5wIBgVHd34RM5aGm6wCQkMNRuWdng93i1jH12lqqotGcoA8Q7a7bPPP9CX+IDx/ukC26n+RWnfn4edyJKlLnvQixoYSi8IRGROnBTEFlZ2tjn8gn9ZTTxMakOwCRxPcveKB/EAAAD/QZu5SahBbJlMCGf//p4QAATVIIcLnYO+jO6Yq2vc8XkorBcALFO+VSb2rMqnaYfxrssaoL0wsDKkHgHvdLZFx4jCyxT2OKCV0x5NZiUr0iAMV8UArpiZ9FKPlLsu3/rBdy34IgTU47WZMbPVIZAsjWxZD4tTzRtxuJtBElFidsFxh7AYBYYWCFxiCFrRvEfHcn1DzL26gD5ArCcOiXvz/jIrFpICKyQ5ZCaN7M9aMuNx92vSxsQjOYK6z8qoyAaOCyGaSh4HgsghX1v08Qk7494QFBtGIi6UpYNfwOTZcQtJzJnRkmtftX8OH/zUChNDS297Vm2GB2jcY9O22JWAAAAAxkGf10UVLCP/AjxT+jmUbnMDQ2B91T4yZwC0AcQwpCSedj/H/LQxgLFZYbD9oEJ1wHmhnN7u5k3v9juQmD/gWWK6nDRktqk5FPGOt43rNydeESrSP+aiZRva/H1MHZiCjdxsU5bnW35e53T63dJa8YoxuCrxwSSC5ZRLEITRNmSrmMnnhHr3lYwGBelNcp1Ma8M51j6/lmxK4bScf/V52wrX5vHUMbSlkMnFDKpJcWSsW807dAb8l7GS8Lfsi5EQ94DTcI7JcQAAALABn/Z0R/8DhRSkXcre1B8k7J1QppaCv8CRQA49YEGi9/cSW8E23wI6h596ZOYb3nn0Nf0Un5anffa5eWJc6/Kruf0DYYeBWBZBmRCpQ+qCjpuoCalNsCDpbS7GVBAjG+dAxxIypaXg9mcR21k59385SUFpG3NCu+8whne22/yX8K9BQhMaqBg2gbKf4gcJK5CQXMyhOjVdbD2ZY2i3PqvtpQ4wG63mnm3GANyKU9GVcQAAALMBn/hqR/8Dhv/l3iSG2s7JZRXSOGgABDrJrMmh1TVbU2I+ViNeDnBikU4UmxJK+mf5/5PNCPXbZ55/oS/xAeQ8q/cc8RGFIvGxq609xX1phPkhuF71qOL8r0d9J3OUN6HJh+i2rG5GRntTOiCZI4hGl9kzQNVq1sqI8gvsEktx+PfqH+XYthJ248mjsC+jT2HQ+lkXl801jUJr/EMuOmGlNVdBnHcaR0MNwgPduDsP53/O6AAAAO1Bm/1JqEFsmUwIZ//+nhAABJvixzZvWvnvGyUAUKVCxMg02Wfx0iKHpV/wOCDNtI2mcI1eEyAz1/n+S+7z1UVJeKuXH3QCjk+2X7ZEMbzT+bTH9Z8yraFQE7TRQez7ZqYRggIQHDuATy64vqvliMs8qqvshGJqX2EtSgjQPyYLnL4j0glIf8HH8xL5Pwd7TOC7C8C+K0YSJ42J/VW8lQDN8DnAbj3QFiOlQ8c5bcx1EnDe5jwi07zp2QGERksjScOybg5momOS6bcIxv/4tRcWaqhBNhEr6AoaAWdhXGrv9gO1m7gs8Yy147mmBE0AAADaQZ4bRRUsI/8CPFP6OZRucwNDYMMfn6gAy1O8/gLw7BYUlJYsQ0rem7u9oqJgRPOaHpLdizf4yUU5JteFocj0QVsE14FP8B7zqDD6nnEE945ZurMVBNNSl5U0RAmeRt/02QR8qAWBi/wRQ2YZJujEAA4DmcfLhprqFOhWA9GIOteM4b6EaellBMEJBSK45rXj4VihctDZ/ThARyCMdBnn6SvTkW20tPfA7YLbvmS47TmdtN/zJt5bJmczS4RPLS0EiYPYAdoyprl71HkkRQLVnrtxzMSgFiVxz0IAAACYAZ46dEf/A4UUpF3K3tQfJPDoH92e0AWct4LAnBIuZcUJi/E9+p7+dTCIvT/lof+nBnfEufKbe9dsNBRMU7dT/qmvudqU4K/5z6aC0L/1XlDwCcf5/1T78iLzVeTJRgvCy7RyhtZ+Pr53dnwdaEfaa0SV8ZwDSXzKw0CX0uZN3xTmwXqIZZhqkJ0EJQaIAUmH8iRe+8NyczMAAACrAZ48akf/A4b/5d4khtrOyWZUQDTwk1Hdywb0fhvRTNGznQJvqhw85GgqTy4WsONubC5lmDfF8SxnIqATSDQZHP22eagBrujmWUetDWR+YL9EfKEr42/9G6/kwCeQw5svKjEHq0fHhGdUftOZNPAXkHfWtk8yLUNoXboDo6xtNxPCqJ+RXE1tSWprNbdgOXkAL/IDlKxMFj93d88diZgleq4qfkAlBfV47KuBAAAA10GaIUmoQWyZTAhn//6eEAAD9ee25f/ZkW5ImhFO8TmXT1coAM5myTmiAx8pSKk5caBluW+oMamPEzf2FjR2CNidOdHNh+QYU00Ai10lL81Tt8VkR/hf8oLPwILA08LWRmuk9hVQxYM1TldN5QaagnB4fxK0EWZBAf9ZCl9y7PmkAq7Pm9qko5QOWO/5ibs2bLYi/7bBlmsItddQcHy7M/9I7OYb5de8XTkd0kWYD7x4gp+kSuzmWydwD0OQ7wS6WuUSNjiaDKLsOGeSsewkYgboCGHgi+g4AAAAs0GeX0UVLCP/AjxT+jmUbnMDQ2DB5knau1uOmxlJhsk+ugM7QF6qyx5qic5lFqDw+PL9yogBuWkYNrxABr+mXPHXiOaUlV60jtauTSdMSPXy92rfnNllQjePconaJOJEaC0lr2csJxb1iSwUcvDnPY5VAHDEgzeGv27kqCaD/3KRVX28/v4XVUJf4gPIhtNIyPT1PGkXILUkiR4pp16skq6+PjoWB2WZZAe2Ivd8oC/dX9IPAAAAmAGefnRH/wOFFKRdyt7UHyTsGVr7fOGb+2EytmQ1ndDioT0AX+s/dNHos7FLjJjZyjjHdScmxPMr7M0JAvC5nT6o3Oqg42KkrpUw1MTz0kNDUvfuwzmqkEairs3mvR3pDeM8AYwO/hNyrxvFa9eZ+FCoSxbkDeXZau4P/Kot2uqCmXSPzkmyy49iIV8IvWEEtVVICsY51Ff3AAAAjQGeYGpH/wOG/+XeJIbazsllEGdp5cz4+YmXyCONu3iOP8uLfKr39nCdoAEtv7VKXDfZJMHX3sczXq5fH3DfE9Ju5vp+7Gqun3ZatJzoQJUUCgEh9YBjnowAIHR5f7E2scA7YQBf5IevrQ8wxqtor6iRD9Tu9qKUMRG4PsM24I0qmUv2wQkNGDfwEcTlpgAAAPtBmmVJqEFsmUwIZ//+nhAAA/vCdItt6hzz7d6glVkTHMewZII7LLiB9vExc6T2T0gyePmfi3USyxru4PDvVOS0O/M1iIR5corvwWn9anMnvtN4jcZne5CMKhNeDU83LFS7Jr+1mK0INSqrKA0pza+VgSHFbIFxEynIsMEBtIsOuypRfWLx6ujpxftdaVykyv3W7HCppOY0bCSlI1wpSg6odv/Z19mTgcpFk7UkhLtxo5v3W7crWSDRFUlq6Mvpibt3VEtaEPQGCiiVQdABoxiNW2r+BCJZbEPsswupZlIZCucuH85h0mZi2deDD9QGSMm3N4Hs5FmgGTYFgQAAANpBnoNFFSwj/wI8U/o5lG5zA0NgweZOHvtU8nV8Qp4CvBQAXPtqqh9Y/tLrgoHQQCg2QPkeShDWchqAyeLvqodLtJjvhZ9VTURjyoJWXuhdv4QRPqIYhBWe8//9poJ2OUg2iY8G/G6evrTv7qO9JPZGjuQOrgFErTphvnTsuGN+DnDBMi3YEAygAhlfIFmNq0E7QY+u8MB6Rvza657FglHEo/nu8sd+ZBAdm2FauyUhb7+wgpYK13wj1lNqVxLikm+z3POydLpUXnfthTCsipIMCAHfOuAqHXDbHAAAAK0BnqJ0R/8DhRSkXcre1B8k7BlIHIYvwtpjfAARgKgwbUcBiw0GEKZAip4aGLUzsDV2fyN+yR+CnIQZ2zItRIFTX+3ixoQBUvNwX0gKinclB//0clY69V6wB29/QfxxRTB/TDcWUNJYmw9F36Y6FYxc4xT1ck0nOzn1yQXeBSmQksz66hbizOqK0Lw+zU6NV8F9EDo9+SX/FrbSii6LMKfT8MW0b6czoDuswRs4qQAAALgBnqRqR/8Dhv/l3iSG2s7JZRBIPw40bMUF/4/vD4AguHZy7fcihiegC9EfKxOjXbIC7W1H2dxKSIPUotKojeM0YSn6r9BOv/FIAoUt1s3OzMZErAa9hD+nIiNmd7X8YJmUwBXHUraMIZikD390kbcA97wwE9cKWzi1ubiSnU+qaZE8rKOJiCrEJ5gylOcjT2koWYsgg6e8m/n+wYxwvqPuhUeAmwGgKtccjbBwaktgrX3MU8hyyLApAAAA6EGaqUmoQWyZTAhn//6eEAAD5cJ0eiaw7u2edY7CddIrLiCVWA8W4ZsrkAfuEbZVw71PcfkyPGPWn/6h+pANTBCMFUsCxRG6buM8OpnTAENPE0jb1hB7MI8huAkXlPO0wsBP/JutvhcuJybGQfVwOe63RM6HK+xd96DIxWvFCYijWeRjHQtuMw6ho3o+6UbzqQWZ6YFM94d1PJHnUgeRxioTRvyX5+W6mTliRU4rSg5HjFAknuaNifQ6vRxe3UFrLXsbEG1eL4pv7Dp/D7VefgCAyBmZJdbikhe2fMLgpR7ihngmWQd5yNkAAAC1QZ7HRRUsI/8CPFP6OZRucwNDYMHVSMRaqFYTACPYxHal3nvNK9fyZtYlzOjnpR5LT96w47LKm30K61b4duvTLYePOpId6150ESzehJ1w6pptJgSsJmPScFrYMSOBNZZyQiuni0B5suspbD14FPRjhdxoNi+ZLp4FEGj7E2qD0zDYiFSH18Nygunsz0By1FeUYWjdYg0cnGeaRCjRxk/+H7cvKmch18tDgcrDW1k7yEAVEuT+lwAAALkBnuZ0R/8DhRSkXcre1B8k69Thd6ZU+AHJ68ymHeM6ONy3D2Tajc4gkJCn+AZFTGY2LrJWSTaoNHsLgu8ml0IXuMRULdc4g0eD19B99rHXE7LvpxgSywTtYXDggprHytdNx3YNh06fy9dxZdU1SelN6f0+KK1o3CHUq3OcpJ4yCl59xYmzHbc/fTlkG7AG7PiSFRtIhXl3bLFIAdDjzp+/D64o5FEUW8LObnzUqEE78CiyIZE/814ukgAAAI0BnuhqR/8Dhv/l3iSG2s7JZP5/FxHSKea5avahh2wOVJ+j0PcaBdrSgAtVmkxMfjdeWxQgHIu4y6pksx82kzcvCP+KCSk7akPQctEDoekNk/Z0bW0kXBNrFSZRk09guWrsDYGWTRChQbRMbScmMbgEn7wAIMp7HCg/PVa0aS6fJat0SMj27KE8UeCIubgAAADrQZrtSahBbJlMCGf//p4QAAF9XaTAZ4AbcnIL2luy+anIfQ1KsYextYjMBW4GXOV8kbx4F2l4LksQ7hmbhce6pKAPF6PbS4XRm3nf18sFqBXEHG7uqbHPuANRFjUgslVLYvLVVRvEocu17iI+tN2yK6hV8j0T6OgEeA8nRap4+insh0QnkCxcud1ji25oqx7C1evf0JVqD1kgzc5zo0UAAr+Xaa/0VU4NWtre1ufAmfom4fThz5xGU9kPFHg05QHPKKDKFICrTTsnDj4zydgT47km/XJwQ9wCaB5dwJXVtzzFGcmWz27D8VqPgQAAAJFBnwtFFSwj/wI8U/o5lG5zA0NgwdS0sqLZ91imY/m7PcRvUoLyWrwl08FEta4gAXUacuJBcLCEibiV/XjPUmHgPYhOgr3V7KTfOOh7x1eBucwmYLLTRtMOiQr1o9uF3G3QOF8FBO9SXaWXhDN0AzG/aq36+ti1rF4T2gfIebIsMazAkB2EJ9dN6HJRoGCHwr3pAAAAkgGfKnRH/wOFFKRdyt7UHyTr0tfvKtuUgQM3SPq6SzrpRzzinb7ZqTJYEqf+T1ABuuxQUDWWdR58M7PxeBGn7tIGX1Zkx8raV8t4sQYFKN6eF9SXiav1xjkxbzhos+/haKRrEHDbHcsJYlsEnB7m/5O9m6XF9J89XdOfNXSU0fwHi3za8LmjbZftTHRB15hsJiXAAAAAfAGfLGpH/wOG/+XeJIbazslk/n4kjgFpxl4wGSFre61PG/GHsdIJiYhjAqAALW5DerhXtSMH3903ol2DHKkcTu608+ejga74bQz87B44ckmK0pcv7Va3ojjEDPDuHvCz/WMUBBdOjAKhD/0uciZcfdWp3MZGE1BzaXRjr30AAADQQZsxSahBbJlMCGf//p4QAAF9XaWCwlE6sgB0CznKgOtUWyb2L4a065juZdKLAxp4sox3EVz2vtsNa5mqt3A4cLiMSSrX8rQhTecjfDKP5OKOzILVZnbKWO16VT0IzLpBQM+nXTtOtGTX70VCbLfAKHdOZAAYoniqhWjRhjCKbs1tpx3Cwz7tQTtrAG82txm+g13aE0vZPkT42PDNVqYot6OQvFZYjUih5ATsCylkU0ANaPQkX5+ieqTET2rbcPDJODht/xNsnwLEovT4iEGI3QAAALBBn09FFSwj/wI8U/o5lG5zA0NgwdS0szSRyXI0LcLjAbrMLADaUrOMRXqJ2jZEhJNxgsddi2AJis5lZkHNMTACdYWkpSdCGUjd48/4QgOzwgUGwkXtwZ5UFwIdWxE1B84ginhDXFTENtc7BuuceTTpL5zibuxCh0e/726ISOC2Gr58Wsc5CHwF4dhhc+qjfk+B4YeHfbkuHHMKPHFTWaHlGh3xFdoEWYw+CwVoV/R6wQAAAF4Bn250R/8DhRSkXcre1B8k69LX7aV9tmwALItWFdT2rdcm5g8fqOhhAbfyWA6AYdHAKyUOQuJEUlLpFKVt+6WCwRkvkiePlK9ZB4QDYddg0qdh4HCXryyLTNO4H4WgAAAAhAGfcGpH/wOG/+XeJIbazslk/n4kjgHd7l0un3RgF8QAnKIZE94j/QfwLS9oKfTxgBbO0hqMv44vQ5yGhX47eBUcFW5BEnOg41Jb0UVskYrb9ZkgAkdxSpK2WWX7BLOEQBD75kRj66j72h/HxOJ18PZmwrFQmck36EL5qCfKuI49V0LF0AAAAM1Bm3VJqEFsmUwIZ//+nhAAAX/hOcwJeEXc0VQbg+G/SR7EouqXWuqgBrQ5W+iaUbbwp/ZB9d5p8+G0SERb7bcig9ARbzOd03yqVpHqP96mkhokPvV8e7kkygNptB3R24qEDfJWWOTfRal3bpMl/tFCbM3so3DM7ZBgg8YT3QXDnlKpEvYjk/9+Ajo4RsZCL2DbnsoCgOc0X7LII4sdzrMo8PFjQ6CKGNNUrGxiOsSyoH2zy8c+sxzWEgZy3EWkjPiy0OfJWn8JSOV4Al2VAAAAk0Gfk0UVLCP/AjxT+jmUbnMDQ2DB1LSzYIJlAxi8IaoiVaXuGQ0PwEhDVxBQAhsyyEk87GMrGuZGZu9RgYyIrABMZGXFe6uvhIJCHExzEOxB6o93mxsIFVO+l6f6nArnVi4ad2/aNiXXuaUYf9nY0KBbYb3u1oqMJcPo0kSxTyQb9iies7c7TDtP69bU2RYyz4d5QAAAAFYBn7J0R/8DhRSkXcre1B8k69LX7ylbwqN3293mMC4JApj+a4pykICoQBeO0slVT9sWuQYk+AADi6N6vJN2Pz7vjOcFXGDE8F7NvZaNks8t8MKcepTl9gAAAHMBn7RqR/8Dhv/l3iSG2s7JZP5+JQl6nz62hOcL7wSXihTo0U/gvjSdzKQJAwMALXM1ajfpqwpn3MhWwdbTa7vyMp7tz2VOwuk2yFlBbcGqNyjJjqg082hY7shkDqgLRq7dsoTrvzF5oSzulQcqHmbhomQFAAAA9UGbuUmoQWyZTAhn//6eEAABc3cDNuHVlky4ws8elkXvwnVAEbXhevmN34KAlTJypkT0IONIZqa2U/Z+QfSidqPjBkKEB7ioQAj455FHa1vFDil7/kDVn+li2MjkalpY4B6K58WOllwxLslraJV3TNBESRW1BYl8qsJFf0CKCUk70mQuK19v6sH56eiyaGejBFndvxw6QxkSUWkttjJIlZt/+75sc8hC/G0OERxzLQVY2Mh9KGiJEvXqFRUQLAu/xvzl4XXuMDe0FS405yVGHBTyM3xNdIiI0MRssREG7yM3eeyL3iSa1qEpSywNkAqP9VZHSA8YAAAAiEGf10UVLCP/AjxT+jmUbnMDQ2DB1LSxxFxPMCFQ1asBATxgYJqZ9PEVyWzlX5wyFc1r8Nir4AP5jBCLNlYL5iC8+/slau81Cbh6R+T879d3dMw4NxCxUte4HYfN19iWH+qNETYNvLd0hIqtdIfZNusQrbFFL2RFP7xSfbyqvlkQ+n4H835r2zEAAABsAZ/2dEf/A4UUpF3K3tQfJOvS1+Klml3mtJBztyBeliJT/BQ7/AA4qN6D9pZykE/djRRb0mPKh45aB0I8FI4ZKoyg9AUJ2TeTXJpNtmIXbP6N5SUO9RtYRnzcIabgsGxONA8Hw67Bdp2Nk5dJAAAAdwGf+GpH/wOG/+XeJIbazslk/n4iiYsXI36FrSKztPtWteGbbJOUAFrmBBAayz6b8Jv3Ig5shuN8eoefLCpl7n3WCZ5Ds/NaXPARz5VlMSxTtCcU7PFyBacC8R9T0HTbgGGxRkj7zVy68Ics+0MrgzagzIWryc24AAAA80Gb/UmoQWyZTAhn//6eEAABfXXoACMjf6sR1ezzxICPFoWxY7UwZXXHqLo/MZPwQsCtYhMqkRvGEdLGj/mDS1y0fMLkV4+K8FUnRheSM6Ix6nsPqNmhB6v0OllR5bCS9TQTvukdtP46cSpsxWEZvif9cIa7mrwQOdNff3gLT2RR6zPnYuQLoVZ5oZLB5ELIsJ9dWVzOPtVuvA/v/UfoRziIgObDscoHbhne4wBjFi/eo/a1x7MTeLqKahisbZVwZkcVOqHysG1MEScJgosz+prTkDZCHkhgitSdQQto/IAOo+PNupvUykq+6E86KCAIZQDAgQAAAKhBnhtFFSwj/wI8U/o5lG5zA0NgwdS0syVKRgL6L9c5fuosuYAE4aThubeFGACgHn4+hYuw/dnBbmTS/QtN7PDHDhliMEN3nZnx0bW95jiXmOqhpb+LbodEDR5od8Y7VaMtgPqd+RawwSgJf34opzMx/ryAgPxNU4azsQgqT7ZhzPkwsRKys5uj4O/DpQTwQEeQNi2Ep8zqaFdF8T7v/GqFJG03Oc518EgAAACQAZ46dEf/A4UUpF3K3tQfJOvS1+JtnpHhbi/lz6J5tk3I2XVF4Y/TzABdApB5us60vxMnBQ8yKBPKtdAuDd6/gMSzP/6EQZj7Lc3wig8Ohp++lTbicp4aAtllFr0j1geB0M1MRLLlSrb55/3xj3t6P9q+KfUbhuWMROmxxBLEqWgODL5LGdqMs2oRiLG/AXfBAAAArwGePGpH/wOG/+XeJIbazslk/n4kXjKVU80z5TNnP35h1O23DSnOLVcaTwLHfAAWHCH6atBch7KboyJLD0cTXKp+7Le18I3z44HMGMmDVD/4W1oBHayAWDlrXqsWoIF5XVh3aUR43rjB2kSk2faPj90KNwvqa7A2DRX97ZkrgbLRGoXXwnBP9tEFpieCUlsNl2FvkDEInP7XPT0mzP5KzS/IR5Xk74R678B97CowXDEAAAD8QZohSahBbJlMCGf//p4QAAGRdyAABAPCx2daOzbIord1D0bCr4lOW0h9wncpJXGga0dXjyGDPtC3081w5mGqDFPavi4+K7dAR92+ycmy0r6A6XRo4dh2fN86AOjPXf3SHHQREQERfKO9zUWSgX1Fn6ospaX1mGFZQ1o8c0HZSKeUY2rYe+G1XTfBP01t9gcMozYUilfW8uSXT4t3sa3ZTm+LpPt2vWMUsPGHcVk3dpmMpBuIr4vHWn3NoiuY3Q67RcW+p29WJMZoKxYeKxUO0x/GPhfSyGnhDYvRH5fZOysSKvrsInAhByAaT/m2efD0y4RnR9Hqx+oN1puAAAAAtEGeX0UVLCP/AjxT+jmUbnMDQ2DB1LS1pQgVVZADXi8h5/fwuqoS/X6hymB+ocHytTNvHAjKhlVVFbGUDTNJ8IPQgc9lZ83zXzxmGvAosb3rdq4k0YcbEOjjPYQEjfH1auxb6EVHjNEzLRUHCDaWpNdLztBvp8YopZGavBmV2BDLoQA6WWTkQwI+M/JKnp9U31r/Rp7Dz56rd3u5gJQ5HtWWfEkPxOf7TulpBo2IXNJNfp65+QAAAI8Bnn50R/8DhRSkXcre1B8k69LX/fg882/16vgAEzV86/ZS3jU9IkCoRwj3iOLxWPpCAV6icngTtAfC24ozkGmA0AFyE0JNopdjuDtkMLkmzLQcEl7B4GpZc1UNxYuHx/Ou4TAPBYqg+7xMWkWC0JYNhwWpcN/mtt6xk/PdAeQyTiyhTjAlmDwDxIr9VXTdjwAAAKEBnmBqR/8Dhv/l3iSG2s7JZP5+KVtl0QZZ0IpACHrMQovY3SD4eDhWMmA6h83EoWS2GmHjGp9iMwRbGIWTxbsuJ1u1N3fcBSiMWS7JunZvIw4NByBmY9iybrTA0VzTlMlB7rGJL/fTZrwMbV8mp6r53Whv24Hw+mBtYvqTqu3B5rPSjNOxmcDZ+/GMIox6Tc6r+uv6hKJKJgq15g/ApNXffgAAAPdBmmVJqEFsmUwIZ//+nhAAAZP2O506rSHkG8g6g8BgDmFHR2N7n2etB96M/bF2j456WenwFjtk2G+pd7R3aWbKK+yfRZdkOx0f/p0pLizZ6yHd9n+pG/oiNEXAj8niD0dzLExUEZKJLFSeIckWmPaUU5H1gaeo+WTSp2gFsiIVC/WZXJQdYONeZZ4cqHwZ7eINxoqQpiAetLSBGB2rkscDQ7mGQ8nzKFV+ZbvcU1ojFDow6iTZu/exSHbFEh5ed+UsERVDu15HqFjLvwz1zfMRk8XPsbAUMhkSiXRVQyKytUjZJLeO5674hFNW3oKcmqhMWTN0/41JAAAAx0Geg0UVLCP/AjxT+jmUbnMDQ2DB1LS3PR5AAz7Z3M0NSAt8cPUncbBZehfMWTYHL7HKwngnxWeeEw1Q1nugB8loEF1u1PBdsEwru9xqqBCmB8vE5049NsbRTt6twoYvRl9OktIPDPZlcbMQ9CVat2cJdcCF5DeHyu5XB1IFzTLe4vyB+umsu88Ep/8giK4Vp7s9pJu42VR0B4JMCbMyBwjEjicyHadsFNQ0gUSFVxGqwfbUWJwehkD8y5JGIilPKWEAsTLd5VAAAACmAZ6idEf/A4UUpF3K3tQfJOvS2C31LbAG30KfsKJcj5wpK2yUwm3wQvrwyE6RukK/eh/4YmpqVBX9K0qkMYrwpMTxL7/rhGFrsmie7lmF7mhxVxUjvy/0Nr68mcme3fFBmoeQcFiL10J/9D/0jWN09kSJouho2lipT4nDHT1kescrk0OZl8v2UA/1p1kVj62mt4f8XsnZ0D4YGqAlJVBBMQwafVDXIQAAAMMBnqRqR/8Dhv/l3iSG2s7JZP5+Lsn6AsRUl5pS+AIer8Ats2nd0VoSXaLHzXa1ymXtcn2gzK+r3RCtphQjY8xKa7m2upCXWhbKYi+3GwufQuNpMiJW7YUahcSuNSiR2wl3jDsga59lts7SRxf5VepXU21Aj8PeBfMRKaKLb07Kv3UJEqH+lLxt1VgK+TixZiHqwR2f+yBAOlua3SF/IKB/3Naba4NtjiHOwRNx842O1LrMyAw/UN5U5yTynDwYlU7iBv0AAAD2QZqpSahBbJlMCGf//p4QAAO5wnSTquGWG7UMABsNpaq1B/oXz3UA6W2bHbL1BDmYxu8wDt1HERYf2XepZFdb6lm1ak17zgXLswAp80epx7RWP6EmxsldM7oPlfV7ZJIUOAnh8C5nZU3PR1eluVOJdRzONkVrQ9qvR9aRGRZlye8GecjSVf32nHedivLWokYHP7a6J14LxI5v04BLYNAaLsh2wsaeocrqzkObG2Dr13YYTO6vxONyPxbjkiXTcM6Fcfy1LwnH9HDeN2l8GxU+MxcpoS8ESHBWwe6mhf3s7bfd7M78iIlmpyZ3WtfY6kZadbrAt/HTAAAAokGex0UVLCP/AjxT+jmUbnMDQ2DB1MelrTgCDAR2pqPDZ5Qv3FJZM1E8t9jgIrhpl0HzFerTLmOMegS5SAi1sEdiqqDrzmh4fc/GC+9sMwYRWn0qQmdavSPdmET3hdD91m5rD/ltuVj0pZX3wQ0YGqrlMHD2/3sroteMOyLOGx/TaV4Q5xzgjlUr3eiVssVCUwQKFdIM/J1CSHA6gBpvQPoQgQAAAMcBnuZ0R/8DhRSkXcre1B8k69Lc5sAAAjsVjNmB7VqeOQHDdWWGPOQm6IU2z2Cf6SY6G6RNilVjGENdoJlCi2ZkZuEiWohn9QejhACXdna5G4ae7/PjiGwyU30OOBBVVnBZz6PIWm6w8PmZ58ig7B95X/W3xQ6Po+UtCS/gOiEjG0ucqZpQQKF9VLcE7fmN2FuXoFmP+/xgmwxRNBhU2iboGhcyED43NpN3E28FgTgkKgpoLLf2vuM9zJIo7+c3caKwzPxQTXcgAAAAqgGe6GpH/wOG/+XeJIbazslk+8oYJwAcqgMLAAyV17WVTipt4n4VohrI8erUOzu3auSOa2wPNtuOATp3ivFG/R2qNXOlEnzhSkvbsk/ObYNk8JsQLVwo/EqbXusjqzQp+RozYwVp6khU+wUZe07RYjXSuXBzUA58rf1ibZRPwff4k/eU9MJSAHKZfZD/0I3lcyrG1q7Oclcd1Fuf8V4SMd6HRKL9FYdlQWDYAAAA80Ga7UmoQWyZTAhf//6MsAABbtIDWFnbmXV3/XPAQfU4lL+JXIeaCQvOzn8P1pYzYWr7qS6XcnMsoYGYc6hmyPD+USCBRSfAFL77gSyn53ZSBdiFNfE0cCReHmV6BqqDFs03exbt3pBKrNW+Wnl7lAfkaX5lbrZh2oiLhhZ5BS0CX170Ze1/wrPuf7ovzlICHsY5gaKnoQ12p5M2Xmy+9HxSfUg+2BaU9vEyTV9S6o41A3kkQAIuhvC/RtEKWNt87JxcpJZK8XfdEx93DUdy5WYJOQIn0HV5cqkIXGiUBLW9xIE8IBzBUEHcd/RRRpAH4loN6QAAAKZBnwtFFSwj/wI8U/o5lG5zA0Ngwcrk8KgoAOLKDdoUCEfa06c8gm0B6wKLlwY0+f4/ulGAZAuIyhH3/0EFz+/PVIc5iw+lT+u0WRPnqHpvPxgSusS0SVm8I6hqmdr5KRavpG74MUiYfZHu2IolJrrSslv0ysecsENDwZ/6nogPMLEvVTBYl7HUGh4ktMG71Gm6/BuImSuXfx/RKHO8CPLfgRZPzDXQAAAAjwGfKnRH/wOFFKRdyt7UHyTrqwmdmAAC2bkN4no9+DBdz+N9m9XAKqqM7gid281xYo3ycKUK7EWyRf4uIQa6C+8Eb+rJyTLV93uGgncTkjSLOfQQw9x9a307zQvzsVlM2MNkKspwCXgAE79T6AN3nAT2vv0M/2nPgQ2M843XzC7Se4jLkW3okokoXXnr/0woAAAAlQGfLGpH/wOG/+XeJIbazslk8O0Ht+nDIxDKB7z2+AId69AjWynOhgx01Ur7wSN9MdMvAJH3uW19FAT1DttKscgQdqwNdvUcFVRyl1hRNtjA168Wa0xoNX3uV+AaPE31X925y0HspXx/UkA4Rgieatx7NEecKLjh39Kg/mDXYPYszw3hScus5/nxtSFsS04SGuT+0V91AAAAlkGbMEmoQWyZTAhn//6eEAABa1NfBsTlYJ862IbclAWJV+4O9uQBNhhFNYA4nWLfNgzxn3H3opJxyZE0KqbfbTFR2kBXjXP+j/91Q+Q4GJHoRRF2YIa4G2d5IGGzW68pFtN+b6F3LvqnseAMJUGfW+iwjgDObv//V/0z5AalGgosNZ6JolBGnwvkaYWKphLoQV0+kmgsoQAAAKhBn05FFSwj/wI8U/o5lG5zA0NgwcrhQTHOTjzGgl/3EAHF12KYv5BdFZEEOK/J0cKyJXNmr4GpNOTD9WxZrbgiq7+B2DQzM88mLK8WO6QMFjn51267lFFRT1EiDJBr1iwSCOnQtg5jUdQUOdcasqGajU8jeEXZthyD7Kstwb/3vU63COzU8AWQYl0GUeLNgTPVgq+oL3Gto4ELQI0qHidzQrwEGCX8WUEAAACWAZ9vakf/A4b/5d4khtrOyWTxI4LDsc4qWIojKLCAKuzFKqPJt+SegcqSIIIyCZ44yNI31VYDBKHq9jN9l2AgVPoR7qpDcmgZ09+o0tS6TFAmC7a205dTw43eqel6tvuKDVpOvhLOd+y+6kTVlYVUDpNq5jJrdSZSaOsuuQlbZy/jOdzj5EDCLgdMFo5zCAS0NIrQjGxyAAAAkkGbdEmoQWyZTAhn//6eEAABarCnBj+fqbLczocEWTPd077sWgBU0BinjT6qPCgUfbtWZ6xqOQdbRmwJQfGUacbpOG1egcEzmWaauhf/7wFFC4TsDLg3eN0MPmxn1eGP3+YM52tdD4xwXv68Z9bWn62bKW4pz4ahz+3GfGuIlnwRuYpIF70GQyQlO8Qqj8hs74acAAAAjUGfkkUVLCP/AjxT+jmUbnMDQ2DByuFAtx0rCL0+o0SKpOCb+UJJCZVVxujfBUUysAFs4jYDPSSFLXbPqaZ+7wuxJf5dlE7d/tvL/QD59+62kooXPtfqLyA/gZg7zdbTs/vn4TviLh5crJn8mF+HaIcF+w4FUH6tvoT77sA0+uXqOWxcMQ4gmwD5ETIFbwAAAIEBn7F0R/8DhRSkXcre1B8k66uH6PLEI1Z4CjaQAPw/CIJH/+X/+W9EQyFx4/oMtK/gQILyPz7SxfkM1ov0ErdExnKtY+VWJBWzSIbplFDX8i4mJ0Ppswn9MQhWIuBCsGpYIONRKefLxTneknMT4jexGQHc44rPKTMoeaGHjRWJzRgAAAB5AZ+zakf/A4b/5d4khtrOyWTxI4DtqB7/Gi4g+EAA++IXsd9wd+ewZD0Nce/k918z6Q6iXHAa98FZ/2z9e5PgPuUfHeU+fMdpI4KHHvHg2coIIJSe/oeAs+Tz0rTMvzvLqqbwlbYazlLt5h+wAe7pQ2J40PM23C9iqAAAALVBm7hJqEFsmUwIX//+jLAAAW2r0T8wAgNpJDnAqLdJRKXchW043kD3HqMqMZyaw994UegX/QbPUMtQMGdbbAMmXyZgUhDV9dcMsufT92R0m6+en6FXq6PzZrW6Fx22V44uGZCdqQpfgK/Kv6l1lzp1oPxPMJjkpRCXp4Vi4GO4WvVMaOEK1um94wnmjAB0vmY/Opn5va4ggK7aQtk/qFp1DD69vKo2HFxQIRLC+Qy88YfEn9lRAAAAnkGf1kUVLCP/AjxT+jmUbnMDQ2DByuFByUGbyoT7ivKapwneJjgH/l5oQe1CsAAlqxBOTRkuVnAtClEPlrccuR8E0vWGCYrH2cmiX6LlfhcxxI8patg3wNGuRo8p8X6GOdVz86a2G8CeLBXbf6xTwgMRN93+ZlbiJDQenjPQajwDDnl6geUJvIM9W9xMFQgxBp+xXhB0kuNJwBfuVos6AAAAaAGf9XRH/wOFFKRdyt7UHyTrq4fusxEcZ3l3DhQm2aUSphmax0xBgBH0vvLEK7JBa87+jHHcTH+PKBFvBYfCcMzubaEo+6Y8KEYCUAna1VGIqJ28/QTy4WefQg2dxgBeNRSCR5pP9PSBAAAAhQGf92pH/wOG/+XeJIbazslk8SOHIb6PevvnN016ABNIEPB+Ssc3JW68aI5TRiGSe5Zm238kWNRbrHFkQtyTjHmJZXSBcqWMjgwXd9IpbEPjdebEx+3JN1YY/ytcgekdFfyNQzvjsyC3KcUsoZKuHxGiKxv5EzAl60D4+QbTpdmC18JHyJEAAADAQZv8SahBbJlMCF///oywAAFtq9BO9RVjDS83ziemvQ1gd6+Y95moAaN4PKjdiR6SZwG/vIksK7APOCdyM6oGYQBmZncwvOO1I/f721WuOE4DYIyLcuHX1yg6GVFgpj7HUh+6ey7IvKL0XEV5L3v+lhIuqEUOU58K403tNSw8wT4Oy3S4lghFAY70tEJ+xUMKpSg/EA9/eCZSY7r21EsonOdZ95ca9vp/YWTKzELypWzrNzoAGTC6YEbbL7tsyYE3AAAAmUGeGkUVLCP/AjxT+jmUbnMDQ2DByuFBMhFP7Vp8dpem9aC+H06QmDdoaHpefTmwtGcjrlOr5vDj//+q+ABWsaR4C7IlE/a2SP0a+/gTBOayI+2acGPoaJsmoOqlDWfEi/0IZpwQiCH/1ODPRnmMR4jOOgLBFRN3W0fYVxP6LUo4P53czl/L6OwkVTBqsQ6N0bObxgOLHqlWgQAAAI0Bnjl0R/8DhRSkXcre1B8k66uH8kZWEx+wXoYAH7jwt0qe2HP4bWxih8K4fvN855cJjuP2r8DlXmH/StheucGbQyI8xWZKRjTTEtJFG4RR/n++hZYJp4nYBIEUQ/m3A2A4nPBIAertbjv9USGUMxyKySXbsNHbvUh4Rb7vTXBr1avsyDYyB8RQRgtY4oAAAACbAZ47akf/A4b/5d4khtrOyWTxI4cfMSvkERrC9ABKEFfwOTXdZWqlDkgoXmtAM+Jo6nkN1O0wqEH93CUtumleLbRn3DvE0mEHfl/gzXivwf7ENWhAkmksGSvUk3jluOtrTQ6j9qavPjzpIo/9y08EHXA9riZLqdyiyGmpDjkScUm/+Ru99uayuyUYNpcjRrkuVuIHWYBhh8x2r+EAAADKQZogSahBbJlMCF///oywAAFtq85y73H7wJJ0L4HRMAA5wnMIdDv+rrecjCo33CfgeaRTP64PmBNPp6l6Q3UnRwMBA8GLjagcMNxz7RTbqFPqx6sLsm0gAuIFYugRv2USKERtC5e8kqetG7Ei6Q1T7ypXdv1gD/Y59CirmX+Bd+BPctJLHBrR82VafO8SVRpp4jsdaYEc+IJgT6l9h57mynnX+WcIqcunviwKYJfZZzK4/rwV0yLwGNHtMvHQZP42QMvEXLTjP2Yu4QAAAKJBnl5FFSwj/wI8U/o5lG5zA0NgwcrhQclBj8yQZCI/vedtGMpp6lDwAlSAJszBKFBPaFriCYQom75fu48A21pYxDcSHiLtYu8P/OAgiRE0jAeJD9V0iHMdXCgcJklZI8wihTBHASc8O0EVH6Q4PV2D0BYlXbF6Cs+tuITuZu1mijXYJx9eVnOOBeHJjwB9YqjEkRUGPOuPJMfaeqgH3DK7xYAAAADAAZ59dEf/A4UUpF3K3tQfJOurh/D30AD94QWnab7rJnj95Sk2hq4N6D9pia4F3P4+cb1STc+UWkx5VXn/0G5KqJJcBSdOYjy3JD8i2HELfY5AIexC1GJ5JRw2jxrZSEtuORzD/N6qWDh1FAnt3l5L6c+ArIGmuADHwZF63RZm7Ngp6yrGG9RaeC74MD2kcNToUqdLmTkh/x2sYeOqSzDsINjfXuG5NYYMX2N7+VLVZwwyQRjTGX+HZObxE6XOPxeAAAAArQGef2pH/wOG/+XeJIbazslk8SOHIcYKY1zwAAlp3KL2tsMPEEkFSyEAaoxCDazEgqEp6NoC3+Gll2kyyTXNdjJqCJ5tCid0Y0JbA/08sDZLvjkpHdp2F/oFyKWXAEMhgU/lTPT/GWvL8HrbF+1FlGE70Bh/CsJQp6nhXBNntXF/VpHBg6ZVosoXtTgev5Vc09nAJpO1oJj9GJqpbHYoUJeak5OTkVXfg0qR9l3BAAABAUGaZEmoQWyZTAhX//44QAAFj5Pq8k8oaKgCLS0sU+5JJZK8L4Y/YVh0AXuZ8hC3Sb/yH0hc9Wb9VKAQE3tXU5UuSp90RAQY0mJoux67fKsqGT5QbulQ89O4Y2uLTErMhMyTml52rSy2W3KnxznepX/8Wn9kpTspfet/BO6R5k1kzzlOMDQVTh8XYGPLe7SYqhSGjZrNV3huSg0mniZ9569SlQuh72c+qaXVE+iyEpiSq1EiLKRpjEB8wm3EeS7PcDkX+/2eVMvmYEr/+76RYmx7nXOjQ1VtOtScSevpLlagCSZJN24fUTJxEgtOiIxOKhkGeHmdo9DX//mIAdEyiD5gAAAA0UGegkUVLCP/AjxT+jmUbnMDQ2DByuFB0aPqGs55uBM5TfCBIX34AIq3fnoPVP5p8i9KAMwD6sMhd2mmXJFnWRdmesgQuAFrBqsSaCzEY0qJ7uXOcrkGL02ni4drDhj2ro3WLsIJ99RFa1jMNCyQMI1ACIMOeQtUrmx5jEV8y1kCqmPhh6sSKq/Doq3K77kfIuDOIXjnjB6OLJMjW68IthZiZA8wENaGlJxBBnG+23jhv5uq7+bsnkjC5SAfK7HKW01vJJMpy+XjELzQSnx1lqnxAAAAuwGeoXRH/wOFFKRdyt7UHyTrq4f09CUnNNQBA/ViYLH7vzGzFZChqGHHvHg2cxGWe2LNAZ0k26sEUSAymYvlbzgYXSmM8jgsbOQauGGtwMh1+b3xCRNKiC9WV+KdzCPBqF5mBo3755SD7iXxBONOYvRc5S2AfJEQwe0b55k+lmcwT5RHoziXVY2CMnKCBWBk2CJ/bPhOnmkndKkqbDHLJbIazJNrsmLQhOh9LjSZJgtOexRaI/gSSoQiSboAAACgAZ6jakf/A4b/5d4khtrOyWTxI3nFdc3Y6ACkAp7aClkRGhK/FH8q7i+nx0BTUNUMlYydIXdJ8DWowH30AxMDkQYie8kckPZPqwzk59nje7qOW29I24qF04tZ1KkM1oUfD8Lz/BZvU0SUeqBlNsNe9A9a/De4OlMQw+oNz1O5qqtWXp62C6e4PkI67dXItUJCcA1WTpa58N3HEN0J75r7QQAAALxBmqhJqEFsmUwIR//94QAAFR9ahA8E2nLdmuogGbRejdRl0uzH9g9pnKLchYHfO+lvfM436hHmw3h1tv2x0Qol5OO+ReqG9wTN+qUArAIygrNPzq5HY1v/gVc0pl8MLhne/WHbIpEW/amn6bK7rQEUAK/IohsUCmWS0XfvIIrAfwcE5BuRjKg3mQunVjQudQwKvC6hXf9hZAV5ADR8VetXxM1Z86CnDwG6BRBFvQa3AC/9tsXeiRdey6DKgQAAAKFBnsZFFSwj/wI8U/o5lG5zA0NgwcrhP+41aB5KUd7uuW+p289Rmjt6vcpDGGy0/T1EqhZgMqZg36hzD4iRFh1pM1vF9ggA2JhAklMpvuwH2aF1/gCRBDWUCOMY5z60TeuzAUoiQur/BBjcJ8Jy7faffnKFmLZnAyneGpPwiCOp/Bi6+r4jkAUDkP7dNgXqzi0hRtmGcveTjErsmAv6At7yoQAAAJoBnuV0R/8DhRSkXcre1B8k66uH8CaVLOEWxC7SiDRPOjnPOrWXJ2jUAHynqijEoqJsievf/JYxL2VSlGH3rb7aahqk+Nln28/xxrLlBdTv4+4SgXAmC8fT4AsphjLP0FWQ/So9y8kOjttKaXMuHLPLCKqjNIvoMjPvMNQgXtoZzV9SwuOOgJcH+066SoLYOM+nBJHAQ8yxl4tLAAAAmwGe52pH/wOG/+XeJIbazslk8SODqXO7xawevTDABxXNeW2sT4CP956EZLwolT9ObRcz9QYlr1UpDZZSgrPSsMcBkkeVcy9wCl1c+8jinLh+B2eRRkFPc85NoCVlANmGFIuWqqyoJ9HrFxrnC4pjdtSkLNX+YNdg8whgDzILxjnjiyv4j5FKmk4acEs7c4b/kFwxuseYLsTw4bGwAAAAFkGa6UmoQWyZTAj//IQAAAMAAAMAwIAAAAyCbW9vdgAAAGxtdmhkAAAAAAAAAAAAAAAAAAAD6AAAD8gAAQAAAQAAAAAAAAAAAAAAAAEAAAAAAAAAAAAAAAAAAAABAAAAAAAAAAAAAAAAAABAAAAAAAAAAAAAAAAAAAAAAAAAAAAAAAAAAAAAAAAAAgAAC610cmFrAAAAXHRraGQAAAADAAAAAAAAAAAAAAABAAAAAAAAD8gAAAAAAAAAAAAAAAAAAAAAAAEAAAAAAAAAAAAAAAAAAAABAAAAAAAAAAAAAAAAAABAAAAAAlgAAAGQAAAAAAAkZWR0cwAAABxlbHN0AAAAAAAAAAEAAA/IAAACAAABAAAAAAslbWRpYQAAACBtZGhkAAAAAAAAAAAAAAAAAAAyAAAAygBVxAAAAAAALWhkbHIAAAAAAAAAAHZpZGUAAAAAAAAAAAAAAABWaWRlb0hhbmRsZXIAAAAK0G1pbmYAAAAUdm1oZAAAAAEAAAAAAAAAAAAAACRkaW5mAAAAHGRyZWYAAAAAAAAAAQAAAAx1cmwgAAAAAQAACpBzdGJsAAAAsHN0c2QAAAAAAAAAAQAAAKBhdmMxAAAAAAAAAAEAAAAAAAAAAAAAAAAAAAAAAlgBkABIAAAASAAAAAAAAAABFExhdmM2MS4zLjEwMCBsaWJ4MjY0AAAAAAAAAAAAAAAAGP//AAAANmF2Y0MBZAAf/+EAGWdkAB+s2UCYM+XhAAADAAEAAAMAZA8YMZYBAAZo6+PLIsD9+PgAAAAAFGJ0cnQAAAAAAAEbJQABGyUAAAAYc3R0cwAAAAAAAAABAAAAygAAAQAAAAAUc3RzcwAAAAAAAAABAAAAAQAABkBjdHRzAAAAAAAAAMYAAAABAAACAAAAAAEAAAUAAAAAAQAAAgAAAAABAAAAAAAAAAEAAAEAAAAAAQAABQAAAAABAAACAAAAAAEAAAAAAAAAAQAAAQAAAAABAAAFAAAAAAEAAAIAAAAAAQAAAAAAAAABAAABAAAAAAEAAAUAAAAAAQAAAgAAAAABAAAAAAAAAAEAAAEAAAAAAQAAAwAAAAABAAABAAAAAAEAAAUAAAAAAQAAAgAAAAABAAAAAAAAAAEAAAEAAAAAAQAABQAAAAABAAACAAAAAAEAAAAAAAAAAQAAAQAAAAABAAAFAAAAAAEAAAIAAAAAAQAAAAAAAAABAAABAAAAAAEAAAUAAAAAAQAAAgAAAAABAAAAAAAAAAEAAAEAAAAAAQAABQAAAAABAAACAAAAAAEAAAAAAAAAAQAAAQAAAAABAAAFAAAAAAEAAAIAAAAAAQAAAAAAAAABAAABAAAAAAEAAAMAAAAAAQAAAQAAAAABAAAFAAAAAAEAAAIAAAAAAQAAAAAAAAABAAABAAAAAAEAAAQAAAAAAgAAAQAAAAABAAAEAAAAAAIAAAEAAAAAAQAABQAAAAABAAACAAAAAAEAAAAAAAAAAQAAAQAAAAABAAAFAAAAAAEAAAIAAAAAAQAAAAAAAAABAAABAAAAAAEAAAUAAAAAAQAAAgAAAAABAAAAAAAAAAEAAAEAAAAAAQAABQAAAAABAAACAAAAAAEAAAAAAAAAAQAAAQAAAAABAAAFAAAAAAEAAAIAAAAAAQAAAAAAAAABAAABAAAAAAEAAAUAAAAAAQAAAgAAAAABAAAAAAAAAAEAAAEAAAAAAQAABQAAAAABAAACAAAAAAEAAAAAAAAAAQAAAQAAAAABAAAFAAAAAAEAAAIAAAAAAQAAAAAAAAABAAABAAAAAAEAAAQAAAAAAgAAAQAAAAABAAAFAAAAAAEAAAIAAAAAAQAAAAAAAAABAAABAAAAAAEAAAUAAAAAAQAAAgAAAAABAAAAAAAAAAEAAAEAAAAAAQAABQAAAAABAAACAAAAAAEAAAAAAAAAAQAAAQAAAAABAAAFAAAAAAEAAAIAAAAAAQAAAAAAAAABAAABAAAAAAEAAAUAAAAAAQAAAgAAAAABAAAAAAAAAAEAAAEAAAAAAQAABQAAAAABAAACAAAAAAEAAAAAAAAAAQAAAQAAAAABAAAFAAAAAAEAAAIAAAAAAQAAAAAAAAABAAABAAAAAAEAAAUAAAAAAQAAAgAAAAABAAAAAAAAAAEAAAEAAAAAAQAABQAAAAABAAACAAAAAAEAAAAAAAAAAQAAAQAAAAABAAAFAAAAAAEAAAIAAAAAAQAAAAAAAAABAAABAAAAAAEAAAUAAAAAAQAAAgAAAAABAAAAAAAAAAEAAAEAAAAAAQAABQAAAAABAAACAAAAAAEAAAAAAAAAAQAAAQAAAAABAAAFAAAAAAEAAAIAAAAAAQAAAAAAAAABAAABAAAAAAEAAAUAAAAAAQAAAgAAAAABAAAAAAAAAAEAAAEAAAAAAQAABQAAAAABAAACAAAAAAEAAAAAAAAAAQAAAQAAAAABAAAFAAAAAAEAAAIAAAAAAQAAAAAAAAABAAABAAAAAAEAAAUAAAAAAQAAAgAAAAABAAAAAAAAAAEAAAEAAAAAAQAABQAAAAABAAACAAAAAAEAAAAAAAAAAQAAAQAAAAABAAAFAAAAAAEAAAIAAAAAAQAAAAAAAAABAAABAAAAAAEAAAUAAAAAAQAAAgAAAAABAAAAAAAAAAEAAAEAAAAAAQAABQAAAAABAAACAAAAAAEAAAAAAAAAAQAAAQAAAAABAAAEAAAAAAIAAAEAAAAAAQAABQAAAAABAAACAAAAAAEAAAAAAAAAAQAAAQAAAAABAAAFAAAAAAEAAAIAAAAAAQAAAAAAAAABAAABAAAAAAEAAAUAAAAAAQAAAgAAAAABAAAAAAAAAAEAAAEAAAAAAQAABQAAAAABAAACAAAAAAEAAAAAAAAAAQAAAQAAAAABAAAFAAAAAAEAAAIAAAAAAQAAAAAAAAABAAABAAAAAAEAAAUAAAAAAQAAAgAAAAABAAAAAAAAAAEAAAEAAAAAAQAAAgAAAAAcc3RzYwAAAAAAAAABAAAAAQAAAMoAAAABAAADPHN0c3oAAAAAAAAAAAAAAMoAAAjNAAABmgAAAFoAAABPAAAAPgAAAKkAAABUAAAAMwAAAEMAAADiAAAAWwAAAD8AAABMAAAAuwAAAGYAAAAqAAAANwAAAPIAAABZAAAA6QAAAHsAAABkAAAAYgAAAQsAAACTAAAAYQAAAIkAAADkAAAApQAAAG4AAABdAAABIgAAAJcAAAB6AAAAlgAAAWUAAAC/AAAAmwAAAJwAAAD3AAAAwgAAAJkAAACiAAAAzQAAAH4AAADxAAAAoQAAALgAAAB8AAAA0wAAAJwAAACQAAAA2wAAAJsAAACAAAAApgAAAKsAAACEAAAAlwAAAPgAAACwAAAAgAAAAJYAAADbAAAAuwAAAK0AAACJAAAAxQAAAKkAAAB5AAAAlAAAAQIAAACRAAAAowAAAJsAAAC0AAAAqwAAAKMAAACUAAAA7gAAAHkAAAB0AAAAjAAAAO4AAADDAAAAmgAAAMwAAAC7AAAAqQAAAI8AAADqAAAAnwAAAJgAAAC9AAAA3AAAAOgAAACtAAAAuwAAAQUAAACqAAAAqgAAAJEAAADTAAAAvQAAALUAAACuAAAA1QAAAMwAAACsAAAAsQAAAP0AAAC7AAAAlQAAAJYAAADKAAAAsgAAAIsAAAClAAABAwAAAMoAAAC0AAAAtwAAAPEAAADeAAAAnAAAAK8AAADbAAAAtwAAAJwAAACRAAAA/wAAAN4AAACxAAAAvAAAAOwAAAC5AAAAvQAAAJEAAADvAAAAlQAAAJYAAACAAAAA1AAAALQAAABiAAAAiAAAANEAAACXAAAAWgAAAHcAAAD5AAAAjAAAAHAAAAB7AAAA9wAAAKwAAACUAAAAswAAAQAAAAC4AAAAkwAAAKUAAAD7AAAAywAAAKoAAADHAAAA+gAAAKYAAADLAAAArgAAAPcAAACqAAAAkwAAAJkAAACaAAAArAAAAJoAAACWAAAAkQAAAIUAAAB9AAAAuQAAAKIAAABsAAAAiQAAAMQAAACdAAAAkQAAAJ8AAADOAAAApgAAAMQAAACxAAABBQAAANUAAAC/AAAApAAAAMAAAAClAAAAngAAAJ8AAAAaAAAAFHN0Y28AAAAAAAAAAQAAADAAAABhdWR0YQAAAFltZXRhAAAAAAAAACFoZGxyAAAAAAAAAABtZGlyYXBwbAAAAAAAAAAAAAAAACxpbHN0AAAAJKl0b28AAAAcZGF0YQAAAAEAAAAATGF2ZjYxLjEuMTAw\" type=\"video/mp4\"/>\n",
              "        </video>\n",
              "        "
            ]
          },
          "metadata": {}
        },
        {
          "output_type": "stream",
          "name": "stdout",
          "text": [
            "Played: videos/dqn/rl-video-episode-0.mp4\n"
          ]
        }
      ],
      "source": [
        "import base64\n",
        "import glob\n",
        "import io\n",
        "import os\n",
        "\n",
        "from IPython.display import HTML, display\n",
        "\n",
        "\n",
        "def ipython_show_video(path: str) -> None:\n",
        "    \"\"\"Show a video at `path` within IPython Notebook.\"\"\"\n",
        "    if not os.path.isfile(path):\n",
        "        raise NameError(\"Cannot access: {}\".format(path))\n",
        "\n",
        "    video = io.open(path, \"r+b\").read()\n",
        "    encoded = base64.b64encode(video)\n",
        "\n",
        "    display(HTML(\n",
        "        data=\"\"\"\n",
        "        <video width=\"320\" height=\"240\" alt=\"test\" controls>\n",
        "        <source src=\"data:video/mp4;base64,{0}\" type=\"video/mp4\"/>\n",
        "        </video>\n",
        "        \"\"\".format(encoded.decode(\"ascii\"))\n",
        "    ))\n",
        "\n",
        "\n",
        "def show_latest_video(video_folder: str) -> str:\n",
        "    \"\"\"Show the most recently recorded video from video folder.\"\"\"\n",
        "    list_of_files = glob.glob(os.path.join(video_folder, \"*.mp4\"))\n",
        "    latest_file = max(list_of_files, key=os.path.getctime)\n",
        "    ipython_show_video(latest_file)\n",
        "    return latest_file\n",
        "\n",
        "\n",
        "latest_file = show_latest_video(video_folder=video_folder)\n",
        "print(\"Played:\", latest_file)"
      ]
    }
  ],
  "metadata": {
    "kernelspec": {
      "display_name": "rainbow-is-all-you-need",
      "language": "python",
      "name": "rainbow-is-all-you-need"
    },
    "language_info": {
      "codemirror_mode": {
        "name": "ipython",
        "version": 3
      },
      "file_extension": ".py",
      "mimetype": "text/x-python",
      "name": "python",
      "nbconvert_exporter": "python",
      "pygments_lexer": "ipython3",
      "version": "3.8.12"
    },
    "colab": {
      "provenance": []
    }
  },
  "nbformat": 4,
  "nbformat_minor": 0
}